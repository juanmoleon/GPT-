{
    "cells": [
        {
            "cell_type": "markdown",
            "metadata": {},
            "source": [
                "<a target=\"_blank\" href=\"https://colab.research.google.com/github/sarthakrastogi/quality-prompts/blob/main/examples/few_shot_cot_usage.ipynb\">\n",
                "  <img src=\"https://colab.research.google.com/assets/colab-badge.svg\" alt=\"Open In Colab\"/>\n",
                "</a>"
            ]
        },
        {
            "cell_type": "code",
            "execution_count": 1,
            "metadata": {},
            "outputs": [],
            "source": [
                "%%capture\n",
                "!pip install quality-prompts"
            ]
        },
        {
            "cell_type": "code",
            "execution_count": 2,
            "metadata": {},
            "outputs": [],
            "source": [
                "import requests\n",
                "import json\n",
                "import os\n",
                "import copy\n",
                "\n",
                "from quality_prompts.prompt import QualityPrompt\n",
                "from quality_prompts.exemplars import ExemplarStore, Exemplar\n",
                "from quality_prompts.utils.llm import get_embedding"
            ]
        },
        {
            "cell_type": "code",
            "execution_count": 3,
            "metadata": {},
            "outputs": [],
            "source": [
                "os.environ['OPENAI_API_KEY'] = \"YOUR_API_KEY_HERE\""
            ]
        },
        {
            "cell_type": "markdown",
            "metadata": {},
            "source": [
                "### Initialise sample exemplars for use in few-shot prompt"
            ]
        },
        {
            "cell_type": "code",
            "execution_count": 4,
            "metadata": {},
            "outputs": [],
            "source": [
                "url = \"https://github.com/sarthakrastogi/quality-prompts/raw/main/examples/math_science_problems_sample_exemplars.json\"\n",
                "response = requests.get(url)\n",
                "math_science_problems_sample_exemplars = response.json()\n",
                "\n",
                "exemplars = [Exemplar(input=e['input'], label=str(e['label']), input_embedding=get_embedding(e['input']), complexity_level=e['complexity_level']) for e in math_science_problems_sample_exemplars]\n",
                "exemplar_store = ExemplarStore(exemplars=exemplars)"
            ]
        },
        {
            "cell_type": "markdown",
            "metadata": {},
            "source": [
                "### Define your prompt's components and initialise it"
            ]
        },
        {
            "cell_type": "code",
            "execution_count": 5,
            "metadata": {},
            "outputs": [],
            "source": [
                "directive = \"\"\"Solve the given problem step by step.\"\"\"\n",
                "\n",
                "additional_information = \"\"\n",
                "\n",
                "output_formatting = \"\"\n",
                "\n",
                "# Creating three separate prompts for this example\n",
                "prompt1 = QualityPrompt(\n",
                "                        directive=directive,\n",
                "                        additional_information=additional_information,\n",
                "                        output_formatting=output_formatting,\n",
                "                        exemplar_store=exemplar_store\n",
                "                       )\n",
                "\n",
                "prompt2 = copy.deepcopy(prompt1)\n",
                "prompt3 = copy.deepcopy(prompt1)"
            ]
        },
        {
            "cell_type": "code",
            "execution_count": 6,
            "metadata": {},
            "outputs": [],
            "source": [
                "phys_problem = \"A car accelerates from rest at a constant rate of \\( 3 \\, \\text{m/s}^2 \\). Calculate the distance it covers in 10 seconds.\"\n",
                "\n",
                "chem_problem = \"Calculate the pH of a 0.05 M solution of acetic acid (CH3COOH), given that the \\( K_a \\) of acetic acid is \\( 1.8 \\times 10^{-5} \\).\""
            ]
        },
        {
            "cell_type": "markdown",
            "metadata": {},
            "source": [
                "### Contrastive CoT prompting\n",
                "\n",
                "Adds exemplars with both correct and incorrect thoughts to show both how to and how not to think.\n",
                "\n",
                "https://arxiv.org/pdf/2311.09277"
            ]
        },
        {
            "cell_type": "code",
            "execution_count": 7,
            "metadata": {},
            "outputs": [
                {
                    "name": "stdout",
                    "output_type": "stream",
                    "text": [
                        "Solve the given problem step by step.\n",
                        "You are given examples of both valid and invalid reasoning for solving the problem. Observe these examples to understand how to and how not to reason about the problem.\n",
                        "\n",
                        "Example input: Determine the pH of a 0.01 M HCl solution.\n",
                        "Example output: Valid Example:\n",
                        "Given that HCl is a strong acid that dissociates completely in water, we can determine the concentration of hydrogen ions \\( [H^+] \\) in the solution to be 0.01 M.\n",
                        "To find the pH of the solution, we use the formula \\( \\text{pH} = -\\log[H^+] \\).\n",
                        "Substitute the value of \\( [H^+] \\):\n",
                        "\\( \\text{pH} = -\\log(0.01) = -\\log(10^{-2}) = 2 \\)\n",
                        "Therefore, the pH of the 0.01 M HCl solution is 2.\n",
                        "\n",
                        "Invalid Example:\n",
                        "Since HCl is a strong acid, it means that the concentration of the resulting hydrogen ions is 1 M.\n",
                        "Calculating the pH using the formula \\( \\text{pH} = -\\log[H^+] \\), we get:\n",
                        "\\( \\text{pH} = -\\log(1) = -0 = 0 \\)\n",
                        "Therefore, the pH of the 0.01 M HCl solution is 0.\n",
                        "This is incorrect because the concentration of hydrogen ions in the solution is not 1 M; it is 0.01 M as given. The incorrect reasoning led to an invalid pH calculation.\n",
                        "\n",
                        "\n"
                    ]
                }
            ],
            "source": [
                "prompt1.contrastive_cot_prompting(input_text=chem_problem)\n",
                "print(prompt1.compile())"
            ]
        },
        {
            "cell_type": "markdown",
            "metadata": {},
            "source": [
                "### Uncertainty routed CoT\n",
                "Samples multiple CoT reasoning paths, then selects the majority if it is above a certain threshold (calculated based on validation data). If not, it samples greedily and selects that response\n",
                "\n",
                "https://storage.googleapis.com/deepmind-media/gemini/gemini_1_report.pdf"
            ]
        },
        {
            "cell_type": "code",
            "execution_count": 8,
            "metadata": {},
            "outputs": [
                {
                    "name": "stdout",
                    "output_type": "stream",
                    "text": [
                        "Solve the given problem step by step.\n",
                        "\n",
                        "Example input: Calculate the pH of a 0.05 M solution of acetic acid (CH3COOH), given that the \\( K_a \\) of acetic acid is \\( 1.8 \times 10^{-5} \\).\n",
                        "Example output: After analyzing all the reasoning paths provided, it is clear that the majority of paths (3 out of 4 paths) follow the same logical steps to determine the pH of a 0.05 M solution of acetic acid. The winning reasoning path, which is used by the majority of LLMs, is Reasoning path 3. \n",
                        "\n",
                        "In Reasoning path 3:\n",
                        "1. The path starts by writing the dissociation equation of acetic acid and the equilibrium expression for the dissociation reaction.\n",
                        "2. The assumption that the concentrations of \\(CH_3COO^-\\) and \\(H^+\\) at equilibrium are considered to be equal leads to the setup of the equilibrium expression with the given \\(K_a\\) value.\n",
                        "3. By simplifying the equation based on the assumption that \\(x\\) is much smaller than 0.05, the path calculates the concentration of \\(H^+\\) ions (\\(x\\)) at equilibrium.\n",
                        "4. This concentration is then used to calculate the pH of the solution through the formula pH = -log[H^+], resulting in a pH value of 3.52 for the 0.05 M acetic acid solution.\n",
                        "\n",
                        "Therefore, the winning reasoning path provides a systematic and accurate approach to solving the problem step by step, taking into account the principles of weak acid dissociation and equilibrium chemistry.\n",
                        "\n",
                        "Let's work this out it a step by step to be sure we have the right answer.\n",
                        "\n",
                        "\n"
                    ]
                }
            ],
            "source": [
                "prompt2.uncertainty_routed_cot_prompting(\n",
                "                                        input_text=chem_problem,\n",
                "                                        n_reasoning_paths=4,\n",
                "                                        temperature=0.4\n",
                "                                        )\n",
                "print(prompt2.compile())"
            ]
        },
        {
            "cell_type": "markdown",
            "metadata": {},
            "source": [
                "### Complexity based prompting\n",
                "\n",
                "First searches the most complex exemplars for use in context.\n",
                "Then samples multiple CoT reasoning paths, then selects the majority if it is above a certain threshold (calculated based on validation data). If not, it samples greedily and selects that response\n",
                "\n",
                "https://openreview.net/pdf?id=yf1icZHC-l9\n",
                "        "
            ]
        },
        {
            "cell_type": "code",
            "execution_count": 9,
            "metadata": {},
            "outputs": [
                {
                    "name": "stdout",
                    "output_type": "stream",
                    "text": [
                        "Solve the given problem step by step.\n",
                        "\n",
                        "Example input: Calculate the pH of a 0.05 M solution of acetic acid (CH3COOH), given that the \\( K_a \\) of acetic acid is \\( 1.8 \times 10^{-5} \\).\n",
                        "Example output: Based on the reasoning paths provided, majority voting indicates that Reasoning path 2 is the most commonly used approach in solving the problem step by step. We will now explain the winning reasoning path in detail:\n",
                        "\n",
                        "### Winning Reasoning Path (Reasoning path 2):\n",
                        "**1. Concept Introduction:**\n",
                        "- The reasoning path begins by introducing the concept of weak acid dissociation and the equilibrium constant expression for the dissociation reaction.\n",
                        "\n",
                        "**2. Equilibrium Reaction:**\n",
                        "- It correctly writes the equilibrium reaction for the dissociation of acetic acid and presents the equilibrium constant expression.\n",
                        "\n",
                        "**3. Equilibrium Concentrations at Equilibrium:**\n",
                        "- It correctly determines the concentrations of acetic acid, acetate ions, and hydrogen ions at equilibrium based on the assumption that the dissociation of acetic acid is minimal compared to its initial concentration.\n",
                        "\n",
                        "**4. Equilibrium Constant Equation:**\n",
                        "- It substitutes the equilibrium concentrations into the equilibrium constant expression and sets up the equation to solve for the concentration of hydrogen ions (\\( H^+ \\)).\n",
                        "\n",
                        "**5. Concentration Calculation:**\n",
                        "- It simplifies the equation by approximating \\( 0.05 - x \\) to be approximately 0.05 and solves for \\( x \\) to find the concentration of \\( H^+ \\) ions accurately.\n",
                        "\n",
                        "**6. pH Calculation:**\n",
                        "- It accurately calculates the pH of the solution by applying the formula \\( pH = -\\log[H^+] \\) and simplifying the logarithmic calculations step by step to determine the final pH value.\n",
                        "\n",
                        "**7. Conclusion:**\n",
                        "- It concludes by providing the final pH value for a 0.05 M solution of acetic acid, which is approximately 3.52, based on the calculated concentration of \\( H^+ \\) ions.\n",
                        "\n",
                        "In summary, Reasoning path 2 provides a clear and accurate step-by-step approach to calculating the pH of a weak acid solution like acetic acid, emphasizing the correct equilibrium concentrations, simplifications, and mathematical calculations involved in determining the pH value.\n",
                        "\n",
                        "Let's work this out it a step by step to be sure we have the right answer.\n",
                        "\n",
                        "\n"
                    ]
                }
            ],
            "source": [
                "prompt3.complexity_based_prompting(\n",
                "                                    input_text=chem_problem,\n",
                "                                    n_reasoning_paths=4,\n",
                "                                    temperature=0.4,\n",
                "                                    n_exemplars=3\n",
                "                                )\n",
                "print(prompt3.compile())"
            ]
        }
    ],
    "metadata": {
        "kernelspec": {
            "display_name": "base",
            "language": "python",
            "name": "python3"
        },
        "language_info": {
            "codemirror_mode": {
                "name": "ipython",
                "version": 3
            },
            "file_extension": ".py",
            "mimetype": "text/x-python",
            "name": "python",
            "nbconvert_exporter": "python",
            "pygments_lexer": "ipython3",
            "version": "3.10.9"
        }
    },
    "nbformat": 4,
    "nbformat_minor": 2
}
