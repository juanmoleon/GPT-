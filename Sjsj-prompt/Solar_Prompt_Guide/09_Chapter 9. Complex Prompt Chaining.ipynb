{
 "cells": [
  {
   "cell_type": "markdown",
   "metadata": {},
   "source": [
    "# **Chapter 9. Complex Prompt Chaining**"
   ]
  },
  {
   "cell_type": "markdown",
   "metadata": {},
   "source": [
    "Prompt chaining is a technique in prompt engineering where multiple prompts are linked together to guide the model through a series of logical steps or stages to complete a complex task. This technique is particularly **useful for breaking down complex tasks into smaller, more manageable parts.** The output of one prompt serves as the input for the next, creating a chain that leads to the final answer."
   ]
  },
  {
   "cell_type": "markdown",
   "metadata": {},
   "source": [
    "This method is especially useful in scenarios where a single prompt isn't sufficient to solve the problem, such as providing accurate responses in customer support chatbots or writing research papers. "
   ]
  },
  {
   "cell_type": "markdown",
   "metadata": {},
   "source": [
    "Here are some examples of prompt chaining examples across different domains:"
   ]
  },
  {
   "cell_type": "markdown",
   "metadata": {},
   "source": [
    "**1. Legal and Business Analysis** \n",
    "\n",
    "---\n",
    "\n",
    "- **Contract Review**:  \n",
    "\n",
    "    - Identify clauses → Assess risks → Recommend changes → Summarize key points.  \n",
    "\n",
    "- **Due Diligence**:\n",
    "\n",
    "    - Gather financial data → Assess liabilities → Verify legal compliance → Generate a risk report.  "
   ]
  },
  {
   "cell_type": "markdown",
   "metadata": {},
   "source": [
    "**2. Customer Support Resolution**\n",
    "\n",
    "---\n",
    "\n",
    "- **Query Handling**:  \n",
    "\n",
    "    - Classify issue → Retrieve relevant information → Generate initial response → Adjust for tone → Confirm solution accuracy.  \n",
    "\n",
    "- **Feedback Processing**:  \n",
    "\n",
    "    - Collect feedback → Categorize themes → Analyze sentiment → Recommend actionable improvements.  "
   ]
  },
  {
   "cell_type": "markdown",
   "metadata": {},
   "source": [
    "\n",
    "**3. Data Science** \n",
    "\n",
    "---\n",
    "\n",
    "- **Predictive Modeling**:  \n",
    "\n",
    "    - Clean data → Feature selection  → Evaluate → Refine → Deploy.  \n",
    "\n",
    "- **Customer Segmentation**:  \n",
    "\n",
    "    - Data extraction → Segmentation analysis → Validate clusters → Profile each segment → Recommend targeting strategies.  "
   ]
  },
  {
   "cell_type": "markdown",
   "metadata": {},
   "source": [
    "**4. Academic Research** \n",
    "\n",
    "---\n",
    "\n",
    "- **Research and Review**:  \n",
    "\n",
    "    - Find relevant sources → Summarize main findings → Identify research gaps.  \n",
    "\n",
    "- **Analyze and Interpret**:  \n",
    "\n",
    "    - Collect and analyze data → Interpret results → Formulate key conclusions.  \n",
    "\n",
    "- **Draft and Refine**:  \n",
    "\n",
    "    - Write main sections (intro, methods, results) → Edit for clarity and coherence → Finalize and format.  "
   ]
  },
  {
   "cell_type": "markdown",
   "metadata": {},
   "source": [
    "**Set up**"
   ]
  },
  {
   "cell_type": "code",
   "execution_count": null,
   "metadata": {},
   "outputs": [
    {
     "name": "stdout",
     "output_type": "stream",
     "text": [
      "Success!\n"
     ]
    }
   ],
   "source": [
    "from openai import OpenAI\n",
    "\n",
    "# Retrieve the UPSTAGE_API_KEY variable from the IPython store\n",
    "%store -r UPSTAGE_API_KEY\n",
    "\n",
    "try:\n",
    "    if UPSTAGE_API_KEY:\n",
    "        print(\"Success!\")\n",
    "except NameError as ne:\n",
    "    print(f\"Since, {ne}\")\n",
    "    print(\"Please, insert your API key.\")\n",
    "    UPSTAGE_API_KEY = input(\"UPSTAGE_API_KEY =\")\n",
    "\n",
    "# Set your API key: \n",
    "# UPSTAGE_API_KEY = \" \" ←- Insert your API key here. \n",
    "\n",
    "client = OpenAI(\n",
    "    api_key= UPSTAGE_API_KEY,\n",
    "    base_url=\"https://api.upstage.ai/v1/solar\"\n",
    ")\n",
    "\n",
    "config_model = {\n",
    "    \"model\": \"solar-pro\",\n",
    "    \"max_tokens\": 996,\n",
    "    \"temperature\": 0.5,\n",
    "    \"top_p\": 1.0,\n",
    "}\n",
    "\n",
    "def get_completion(messages, system_prompt=\"\", config=config_model):\n",
    "    try:\n",
    "        if system_prompt:\n",
    "            messages = [{\"role\": \"system\", \"content\": system_prompt}] + messages\n",
    "\n",
    "        message = client.chat.completions.create(messages=messages, **config)\n",
    "        return message.choices[0].message.content\n",
    "    \n",
    "    except Exception as e:\n",
    "        print(f\"Error during API call: {e}\")\n",
    "        return None"
   ]
  },
  {
   "cell_type": "markdown",
   "metadata": {},
   "source": [
    "---"
   ]
  },
  {
   "cell_type": "markdown",
   "metadata": {},
   "source": [
    "## **9.1 Create Contextually Enriched Steps**"
   ]
  },
  {
   "cell_type": "markdown",
   "metadata": {},
   "source": [
    "Imagine you're building a customer response chatbot to handle frequently asked inquiries.\n",
    "A single prompt might look like this:"
   ]
  },
  {
   "cell_type": "markdown",
   "metadata": {},
   "source": [
    "*System Prompt*: Build a customer response chatbot and provide a response to the following customer query.\n",
    "*User Prompt*: What is your return policy?\n",
    "\n",
    "*Output*:\n",
    "\"Our return policy allows you to return most items within 30 days of delivery for a full refund or exchange. Please note that some items, such as personal care products and final sale items, are not eligible for return. For more information, please visit our website's return policy page or contact our customer support team.\""
   ]
  },
  {
   "cell_type": "markdown",
   "metadata": {},
   "source": [
    "While this response seems fine, it is actually false information generated by Solar. To address this issue, we will use some fake FAQs generated by Solar."
   ]
  },
  {
   "cell_type": "code",
   "execution_count": null,
   "metadata": {},
   "outputs": [],
   "source": [
    "FAQ = \"\"\"\n",
    "Company name: GreenPulse Innovations. \n",
    "\n",
    "1. **How can I reset my password?**\n",
    "    - To reset your password, go to the login page and click on \"Forgot Password.\" Enter your registered email address, and we’ll send you instructions to reset your password.\n",
    "2. **Where can I find my order status?**\n",
    "    - You can check your order status by logging into your account and navigating to the \"Order History\" section. You’ll find the current status and tracking information there.\n",
    "3. **What is your return policy?**\n",
    "    - We offer a 30-day return policy for most items. To return an item, ensure it’s in its original condition and packaging, and submit a return request via your account.\n",
    "4. **How do I contact customer support?**\n",
    "    - You can reach our customer support team by sending an email to support@fakestore.com or using the live chat feature on our website, available Monday to Friday from 9 AM to 5 PM.\n",
    "5. **Do you offer international shipping?**\n",
    "    - Yes, we ship to most countries worldwide. Shipping fees and delivery times vary depending on your location. Please check the shipping section on our website for more details.\n",
    "6. **How do I cancel my subscription?**\n",
    "    - To cancel your subscription, go to your account settings and select the \"Subscriptions\" tab. You will find the option to cancel your current plan there.\n",
    "7. **Can I change my billing information?**\n",
    "    - Yes, you can update your billing information by going to the \"Account Settings\" page. Click on \"Billing Information,\" and you can edit your payment method or billing address.\n",
    "8. **Why was my payment declined?**\n",
    "    - Payments may be declined due to incorrect payment information, insufficient funds, or issues with your card provider. Please double-check your details and try again. If the issue persists, contact your payment provider.\n",
    "9. **What should I do if I received a damaged product?**\n",
    "    - If you received a damaged product, please contact customer support with a photo of the damage. We’ll assist you with a replacement or refund.\n",
    "10. **How can I update my shipping address?**\n",
    "    - You can update your shipping address by logging into your account and going to the \"Address Book\" section. From there, you can add or modify your address.\n",
    "\"\"\""
   ]
  },
  {
   "cell_type": "markdown",
   "metadata": {},
   "source": [
    "The prompt we are going to craft consists of three steps. \n",
    "- **Approach**: First, identify the user's intent through an intent-detection step. Then, refine the query with follow-up prompts to ensure clarity. We will create a chatbot that answers user questions by including a list of frequently asked questions (FAQs) in the prompt. In this case, prompt chaining is highly beneficial."
   ]
  },
  {
   "cell_type": "code",
   "execution_count": null,
   "metadata": {},
   "outputs": [
    {
     "name": "stdout",
     "output_type": "stream",
     "text": [
      "The Main Issue: Password Reset \n",
      "\n",
      "\n"
     ]
    }
   ],
   "source": [
    "# Step 1: Understanding the Issue\n",
    "\n",
    "## Initial prompt\n",
    "first_prompt = \"\"\"Extract the main issue from the user's query and respond with a phrase.\n",
    "The Main Issue: {}\"\"\"\n",
    "\n",
    "## Define the User Query\n",
    "user_prompt = \"How do I reset my password?\"\n",
    "\n",
    "message = [\n",
    "    {\n",
    "        \"role\": \"system\",\n",
    "        \"content\": first_prompt\n",
    "    },\n",
    "    {\n",
    "        \"role\": \"user\",\n",
    "        \"content\": user_prompt\n",
    "    }\n",
    "]\n",
    "\n",
    "first_response = get_completion(message)\n",
    "print(first_response, \"\\n\\n\")"
   ]
  },
  {
   "cell_type": "code",
   "execution_count": null,
   "metadata": {},
   "outputs": [
    {
     "name": "stdout",
     "output_type": "stream",
     "text": [
      "Question Number: [1]\n",
      "And its answer: To reset your password, go to the login page and click on \"Forgot Password.\" Enter your registered email address, and we’ll send you instructions to reset your password. \n",
      "\n",
      "\n"
     ]
    }
   ],
   "source": [
    "# Step 2: FAQ Lookup \n",
    "second_prompt = \"\"\"Find the user query in the <FAQ>. \n",
    "If not, say,\"I am sorry, please contact a person via email\"\n",
    "Here is an FAQ for you to reference when you answer.  \n",
    "\n",
    "################################################\n",
    "<FAQ> \n",
    "{FAQ}\n",
    "</FAQ> \n",
    "\n",
    "################################################\n",
    "- user query: {user_query}\n",
    "- Question Number: [ ]\n",
    "- And its answer:  \"\"\"\n",
    "\n",
    "message = [\n",
    "    {\n",
    "        \"role\": \"user\",\n",
    "        \"content\": first_response\n",
    "    },\n",
    "    {\n",
    "        \"role\": \"system\",\n",
    "        \"content\": second_prompt.format(FAQ=FAQ, user_query=user_prompt)\n",
    "    }\n",
    "]\n",
    "\n",
    "second_response = get_completion(messages=message)\n",
    "print(second_response, \"\\n\\n\")"
   ]
  },
  {
   "cell_type": "code",
   "execution_count": null,
   "metadata": {},
   "outputs": [
    {
     "name": "stdout",
     "output_type": "stream",
     "text": [
      "To reset your password, go to the login page and click on \"Forgot Password.\" Enter your registered email address, and we’ll send you instructions to reset your password. \n",
      "\n",
      "\n"
     ]
    }
   ],
   "source": [
    "# Step 3: Final Response\n",
    "third_prompt = \"\"\"Provide an answer to the {user_query}. \n",
    "When responding, observe the following interactional rule. \n",
    "1. Only answer questions that are covered in <FAQ>. \n",
    "2. If user asks about something outside of <FAQ>, please say 'I am here to solve your question about the services.'\n",
    "3. Be polite and kind. \n",
    "\n",
    "- user query: <user_query> \n",
    "- Your final answer(But don't include this phrase): \"\"\"\n",
    "\n",
    "message = [\n",
    "    {\n",
    "        \"role\": \"user\",\n",
    "        \"content\": second_response\n",
    "    },\n",
    "    {\n",
    "        \"role\": \"system\",\n",
    "        \"content\": third_prompt.replace(\"<user_query>\", user_prompt)\n",
    "    }\n",
    "]\n",
    "\n",
    "final_response = get_completion(messages=message)\n",
    "print(final_response, \"\\n\\n\")"
   ]
  },
  {
   "cell_type": "markdown",
   "metadata": {},
   "source": [
    "---"
   ]
  },
  {
   "cell_type": "markdown",
   "metadata": {},
   "source": [
    "## **9.2 Address a Specific Phase of the Workflow**"
   ]
  },
  {
   "cell_type": "markdown",
   "metadata": {},
   "source": [
    "You can chain prompts to have Solar perform research tasks. Now, we will practice using prompt chaining with the main sections, starting with a literature reiveiw. \n",
    "\n",
    "This workflow involves the following steps:  \n",
    "\n",
    " (1) **summarizing based on the given text sources.**  \n",
    "\n",
    " (2) **editing for clarity and coherence.**  \n",
    " \n",
    " (3) **finalizing the output in a specified format (e.g., APA).**  "
   ]
  },
  {
   "cell_type": "markdown",
   "metadata": {},
   "source": [
    "To complete this task, we are using the book titled *Decoding Korean Political Talk: From Data to Debate* ([S. Kang, 2024, Routledge: London](https://www.routledge.com/Decoding-Korean-Political-Talk-From-Data-to-Debate/Kang/p/book/9781032737263?srsltid=AfmBOor_uhsxjrMICoZscejpDSmphdRJZTdlVgyGUcD1xqYst2zHUMjA)). We will use a portion of the book as practice material for prompt chaining exercises."
   ]
  },
  {
   "cell_type": "markdown",
   "metadata": {},
   "source": [
    "**Text Source**: (p. 10)"
   ]
  },
  {
   "cell_type": "code",
   "execution_count": null,
   "metadata": {},
   "outputs": [],
   "source": [
    "text = \"\"\"\n",
    "*Prior CA research has extensively studied question-answer sequences across*\n",
    "*languages, revealing their central functions in interactive talk, with most studies*\n",
    "*applying these findings within pedagogical contexts. However, studies*\n",
    "*examining these sequences in institutional settings are less common.*\n",
    "*Heritage’s (2002b) research on institutional interactions found that participants’*\n",
    "*conduct and way of speaking often reflects the norms and constraints*\n",
    "*of the situation. For example, how lawyers phrase questions in courtrooms*\n",
    "*will differ from everyday conversation due to institutional rules and roles. In*\n",
    "*such formal settings, there are prescribed procedures and expectations that*\n",
    "*influence linguistic behavior.6 As a result, the formulation of questions and*\n",
    "*responses in these contexts is significantly influenced by the institutional setting,*\n",
    "*leading to distinct linguistic patterns and strategies employed by participants*\n",
    "*to navigate the specific communicative demands of the situation.*\n",
    "*Clayman and Heritage’s study (2002b) on televised news interviews with*\n",
    "*political figures provides particularly relevant insights into the dynamics of*\n",
    "*such interactions. Through conversation analysis, they meticulously dissected*\n",
    "*the structure and content of these interviews, revealing a pattern where interviewers*\n",
    "*often embed implicit assumptions or agendas within their questions.*\n",
    "*For instance, the use of a negative interrogative like “Don’t you think you*\n",
    "*misled voters?” subtly expresses the interviewer’s presumption that the interviewee*\n",
    "*did mislead voters. This tactic adds a layer of challenge to the question*\n",
    "*compared to typical everyday conversation, as it not only seeks information*\n",
    "*but also implies a certain judgement.*\n",
    "\"\"\""
   ]
  },
  {
   "cell_type": "code",
   "execution_count": null,
   "metadata": {},
   "outputs": [
    {
     "name": "stdout",
     "output_type": "stream",
     "text": [
      "\n",
      "=== Summary ===\n",
      "--------------------------------------------------------------------------------\n",
      "The text discusses the impact of institutional settings on question-answer sequences, highlighting that participants' conduct and language are influenced by the norms and constraints of the situation. The text cites Heritage's (2002b) research on institutional interactions and Clayman and Heritage's (2002b) study on televised news interviews with political figures. The findings reveal that in formal settings, there are prescribed procedures and expectations that influence linguistic behavior. For example, interviewers in televised news interviews often embed implicit assumptions or agendas within their questions, such as using negative interrogatives to imply a certain judgement. The text emphasizes that the formulation of questions and responses in institutional settings is significantly influenced by the specific communicative demands of the situation, leading to distinct linguistic patterns and strategies employed by participants.\n",
      "--------------------------------------------------------------------------------\n",
      "\n",
      "\n",
      "\n"
     ]
    }
   ],
   "source": [
    "# Step 1. Initial Summary\n",
    "\n",
    "initial_prompt = f\"\"\"\n",
    "Read the provided text and summarize its main points based on improtant keywords:\n",
    "####\n",
    "<Text>\n",
    "{text}\n",
    "</Text>\n",
    "\"\"\"\n",
    "\n",
    "message = [\n",
    "    {\n",
    "        \"role\": \"user\",\n",
    "        \"content\": initial_prompt\n",
    "    }\n",
    "]\n",
    "\n",
    "initial_summary = get_completion(messages=message)\n",
    "\n",
    "# Print with formatting\n",
    "print(\"\\n=== Summary ===\")\n",
    "print(\"-\" * 80)\n",
    "print(initial_summary)\n",
    "print(\"-\" * 80)\n",
    "print(\"\\n\\n\")"
   ]
  },
  {
   "cell_type": "code",
   "execution_count": null,
   "metadata": {},
   "outputs": [
    {
     "name": "stdout",
     "output_type": "stream",
     "text": [
      "\n",
      "=== Edited Version ===\n",
      "--------------------------------------------------------------------------------\n",
      "Revised sections:\n",
      "\n",
      "1. The text discusses how institutional settings affect question-answer sequences, emphasizing that participants' behavior and language are shaped by the norms and restrictions of the situation.\n",
      "2. The text refers to Heritage's (2002b) research on institutional interactions and Clayman and Heritage's (2002b) study on televised news interviews with political figures.\n",
      "3. The findings reveal that in formal settings, there are set procedures and expectations that influence how people use language.\n",
      "4. For instance, interviewers in televised news interviews often include hidden assumptions or agendas in their questions, such as using negative interrogatives to suggest a particular judgement.\n",
      "5. The text highlights that the way questions and answers are formed in institutional settings is greatly influenced by the specific communication needs of the situation, resulting in unique linguistic patterns and strategies used by participants.\n",
      "\n",
      "Reasons for revision:\n",
      "\n",
      "1. The original summary was edited for clarity and coherence, ensuring the language was concise and logically flowed.\n",
      "2. Complex sentences were simplified to make them easier to understand while preserving the original meaning.\n",
      "--------------------------------------------------------------------------------\n",
      "\n",
      "\n",
      "\n"
     ]
    }
   ],
   "source": [
    "# Step 2: Editing for Clarity and Coherence\n",
    "\n",
    "clarity_prompt = \"\"\"1. Review the summary result. Edit for clarity and coherence,ensuring the language is concise and logically flows. \n",
    "2. Then, rewrite any complex sentences to make them easier to understand while keeping the original meaning. \n",
    "3. Follow response format: \n",
    "- Revised sections:\n",
    "- Reasons for revision: \n",
    "\n",
    "<Summary>\n",
    "{summary}\n",
    "</Summary>\n",
    "\"\"\"\n",
    "\n",
    "message = [\n",
    "    {\n",
    "        \"role\": \"user\",\n",
    "        \"content\": clarity_prompt.format(summary=initial_summary)\n",
    "    }\n",
    "]\n",
    "\n",
    "edited_version = get_completion(messages=message)\n",
    "\n",
    "# formatting \n",
    "print(\"\\n=== Edited Version ===\")\n",
    "print(\"-\" * 80)\n",
    "print(edited_version)\n",
    "print(\"-\" * 80)\n",
    "print(\"\\n\\n\")"
   ]
  },
  {
   "cell_type": "code",
   "execution_count": null,
   "metadata": {},
   "outputs": [
    {
     "name": "stdout",
     "output_type": "stream",
     "text": [
      "Here are the references listed in APA format:\n",
      "\n",
      "1. Clayman, S. I., & Heritage, J. (2002b). Institutional interactions: Television news interviews with political figures. In J. M. Schachter & B. A. Held (Eds.), Handbook of discourse analysis (pp. 173-196). Blackwell Publishing.\n",
      "2. Heritage, J. (2002b). Institutional interactions: Television news interviews with political figures. In J. M. Schachter & B. A. Held (Eds.), Handbook of discourse analysis (pp. 173-196). Blackwell Publishing. \n",
      "\n",
      "\n"
     ]
    }
   ],
   "source": [
    "# Step 3: Finalizing in APA Format\n",
    "final_prompt = f\"\"\"Please prepare it for final submission. \n",
    "Extract all references and list them in APA format.\n",
    "####\n",
    "<Text>\n",
    "{edited_version}\n",
    "</Text>\n",
    "\"\"\"\n",
    "\n",
    "message = [\n",
    "    {\n",
    "        \"role\": \"user\",\n",
    "        \"content\": final_prompt\n",
    "    }\n",
    "]\n",
    "\n",
    "APA_ref = get_completion(messages=message)\n",
    "\n",
    "print(APA_ref, \"\\n\\n\")"
   ]
  },
  {
   "cell_type": "code",
   "execution_count": null,
   "metadata": {},
   "outputs": [
    {
     "name": "stdout",
     "output_type": "stream",
     "text": [
      "\n",
      "=== Initial Summary ===\n",
      "--------------------------------------------------------------------------------\n",
      "The text discusses the impact of institutional settings on question-answer sequences, highlighting that participants' conduct and language are influenced by the norms and constraints of the situation. The text cites Heritage's (2002b) research on institutional interactions and Clayman and Heritage's (2002b) study on televised news interviews with political figures. The findings reveal that in formal settings, there are prescribed procedures and expectations that influence linguistic behavior. For example, interviewers in televised news interviews often embed implicit assumptions or agendas within their questions, such as using negative interrogatives to imply a certain judgement. The text emphasizes that the formulation of questions and responses in institutional settings is significantly influenced by the specific communicative demands of the situation, leading to distinct linguistic patterns and strategies employed by participants.\n",
      "--------------------------------------------------------------------------------\n",
      "\n",
      "=== Edited Version ===\n",
      "--------------------------------------------------------------------------------\n",
      "Revised sections:\n",
      "\n",
      "1. The text discusses how institutional settings affect question-answer sequences, emphasizing that participants' behavior and language are shaped by the norms and restrictions of the situation.\n",
      "2. The text refers to Heritage's (2002b) research on institutional interactions and Clayman and Heritage's (2002b) study on televised news interviews with political figures.\n",
      "3. The findings reveal that in formal settings, there are set procedures and expectations that influence how people use language.\n",
      "4. For instance, interviewers in televised news interviews often include hidden assumptions or agendas in their questions, such as using negative interrogatives to suggest a particular judgement.\n",
      "5. The text highlights that the way questions and answers are formed in institutional settings is greatly influenced by the specific communication needs of the situation, resulting in unique linguistic patterns and strategies used by participants.\n",
      "\n",
      "Reasons for revision:\n",
      "\n",
      "1. The original summary was edited for clarity and coherence, ensuring the language was concise and logically flowed.\n",
      "2. Complex sentences were simplified to make them easier to understand while preserving the original meaning.\n",
      "\n",
      "=== Reference ===\n",
      "Here are the references listed in APA format:\n",
      "\n",
      "1. Clayman, S. I., & Heritage, J. (2002b). Institutional interactions: Television news interviews with political figures. In J. M. Schachter & B. A. Held (Eds.), Handbook of discourse analysis (pp. 173-196). Blackwell Publishing.\n",
      "2. Heritage, J. (2002b). Institutional interactions: Television news interviews with political figures. In J. M. Schachter & B. A. Held (Eds.), Handbook of discourse analysis (pp. 173-196). Blackwell Publishing.\n",
      "\n",
      "\n",
      "\n"
     ]
    }
   ],
   "source": [
    "# Summarization \n",
    "print(\"\\n=== Initial Summary ===\")\n",
    "print(\"-\" * 80)\n",
    "print(initial_summary)\n",
    "print(\"-\" * 80)\n",
    "print(\"\\n=== Edited Version ===\")\n",
    "print(\"-\" * 80)\n",
    "print(edited_version)\n",
    "print(\"\\n=== Reference ===\")\n",
    "print(APA_ref)\n",
    "print(\"\\n\\n\")"
   ]
  },
  {
   "cell_type": "markdown",
   "metadata": {},
   "source": [
    "**References** \n",
    "\n",
    "Kang, S. (2024). *Decoding Korean Political Talk: From Data to Debate.*  Taylor & Francis.\n"
   ]
  }
 ],
 "metadata": {
  "kernelspec": {
   "display_name": "base",
   "language": "python",
   "name": "python3"
  },
  "language_info": {
   "codemirror_mode": {
    "name": "ipython",
    "version": 3
   },
   "file_extension": ".py",
   "mimetype": "text/x-python",
   "name": "python",
   "nbconvert_exporter": "python",
   "pygments_lexer": "ipython3",
   "version": "3.12.4"
  }
 },
 "nbformat": 4,
 "nbformat_minor": 2
}
