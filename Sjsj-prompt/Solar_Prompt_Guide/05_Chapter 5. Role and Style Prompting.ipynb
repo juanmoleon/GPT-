{
 "cells": [
  {
   "cell_type": "markdown",
   "metadata": {},
   "source": [
    "# **Chapter 5. Role and Style Prompting**"
   ]
  },
  {
   "cell_type": "markdown",
   "metadata": {},
   "source": [
    "This chapter will explore two effective techniques for **prompt design**: <font color=\"red\">Role prompting</font> and <font color=\"red\"> Style prompting</font>, both of which are particularly suitable for our Solar."
   ]
  },
  {
   "cell_type": "markdown",
   "metadata": {},
   "source": [
    "- [**Assigning Roles to the Model**](#sec1)  \n",
    "\n",
    "    - Role prompting and Style Prompting  \n",
    "\n",
    "- [**Maintaining Consistency in Response**](#sec2)  \n",
    "\n",
    "    - Constraints \n",
    "\n",
    "\n"
   ]
  },
  {
   "cell_type": "markdown",
   "metadata": {},
   "source": [
    "**Set up**"
   ]
  },
  {
   "cell_type": "code",
   "execution_count": null,
   "metadata": {},
   "outputs": [
    {
     "name": "stdout",
     "output_type": "stream",
     "text": [
      "Success!\n"
     ]
    }
   ],
   "source": [
    "from openai import OpenAI\n",
    "\n",
    "# Retrieve the UPSTAGE_API_KEY variable from the IPython store\n",
    "%store -r UPSTAGE_API_KEY\n",
    "\n",
    "try:\n",
    "    if UPSTAGE_API_KEY:\n",
    "        print(\"Success!\")\n",
    "except NameError as ne:\n",
    "    print(f\"Since, {ne}\")\n",
    "    print(\"Please, insert your API key.\")\n",
    "    UPSTAGE_API_KEY = input(\"UPSTAGE_API_KEY =\")\n",
    "\n",
    "# Set your API key: \n",
    "# UPSTAGE_API_KEY = \" \" ←- Insert your API key here. \n",
    "\n",
    "client = OpenAI(\n",
    "    api_key= UPSTAGE_API_KEY,\n",
    "    base_url=\"https://api.upstage.ai/v1/solar\"\n",
    ")\n",
    "\n",
    "config_model = {\n",
    "    \"model\": \"solar-pro\",\n",
    "    \"max_tokens\": 2000,\n",
    "    \"temperature\": 0.7,\n",
    "    \"top_p\": 0.9,\n",
    "}\n",
    "\n",
    "def get_completion(messages, system_prompt=\"\", config=config_model):\n",
    "    try:\n",
    "        if system_prompt:\n",
    "            messages = [{\"role\": \"system\", \"content\": system_prompt}] + messages\n",
    "\n",
    "        message = client.chat.completions.create(messages=messages, **config)\n",
    "        return message.choices[0].message.content\n",
    "    \n",
    "    except Exception as e:\n",
    "        print(f\"Error during API call: {e}\")\n",
    "        return None"
   ]
  },
  {
   "cell_type": "markdown",
   "metadata": {},
   "source": [
    "---"
   ]
  },
  {
   "cell_type": "markdown",
   "metadata": {},
   "source": [
    "<a id=\"sec1\"></a>\n",
    "## **5.1 Assigning Roles to the Model**"
   ]
  },
  {
   "cell_type": "markdown",
   "metadata": {},
   "source": [
    "### **5.1.1 Role Prompting**"
   ]
  },
  {
   "cell_type": "markdown",
   "metadata": {},
   "source": [
    "Also referred to as **persona prompting**, this technique assigns a specific role to the large language model within the prompt. This approach can lead to more desirable outputs for open-ended tasks and, in some instances, enhance accuracy on benchmarks. \n",
    "\n",
    "We will overview two types of role prompting:\n",
    "\n",
    "(1) `Speaker-Specific Prompt`: A prompt that assigns the role to the LLM.  \n",
    "\n",
    "(2) `Audience-Specific Prompt:` A prompt that specifies the audience of the conversation (e.g., whom you are talking to).  "
   ]
  },
  {
   "cell_type": "markdown",
   "metadata": {},
   "source": [
    "#### **(1) Speaker-Specific Prompt**"
   ]
  },
  {
   "cell_type": "code",
   "execution_count": null,
   "metadata": {},
   "outputs": [
    {
     "name": "stdout",
     "output_type": "stream",
     "text": [
      "The Good Samaritan law is a legal principle that provides immunity to individuals who voluntarily provide assistance to those who are injured or in danger. The intent of this law is to encourage people to help others without fear of legal repercussions.\n",
      "\n",
      "In this case, Lisa Toti was not granted immunity under the Good Samaritan law because the court found that her actions exceeded what would be considered \"reasonable\" assistance. The court determined that Toti's decision to pull Van Horn from the vehicle was not a reasonable action under the circumstances, as it was not necessary for Van Horn's safety and resulted in additional harm.\n",
      "\n",
      "The California Supreme Court's ruling highlights the importance of understanding the limits of the Good Samaritan law. While the law generally protects those who act in good faith to assist others, it does not provide immunity for actions that are reckless, negligent, or go beyond what is considered reasonable in the given situation.\n",
      "\n",
      "In this case, the court's decision was based on the specific circumstances and the actions taken by Toti. It is essential to note that each case involving the Good Samaritan law is unique and will be evaluated based on its individual facts and circumstances. \n",
      "\n",
      "\n"
     ]
    }
   ],
   "source": [
    "\n",
    "message = [\n",
    "    {\n",
    "        \"role\": \"user\",\n",
    "        \"content\": \"\"\"You are an expert lawyer.\n",
    "Please interpret the case regarding the Good Samaritan law from the following. \n",
    "case: \n",
    "The California Supreme Court recently made an interesting ruling related to the \"Good Samaritan law.\" This ruling concerns the legal dispute between Alexandra Van Horn and Lisa Toti. Here’s what happened: In 2004, Alexandra Van Horn and Lisa Toti were heading to a banquet with colleagues from the same factory. However, the car that Van Horn was in got into an accident, and Lisa Toti, who was in another car, pulled Van Horn out of her vehicle, which was stuck at the accident scene. Unfortunately, during this rescue, Van Horn sustained injuries that left her unable to use her lower body. Subsequently, Van Horn filed a lawsuit against Toti, claiming that she was paralyzed due to Toti's actions while trying to rescue her. The California Supreme Court ruled in a 4-3 decision, acknowledging Toti's responsibility.\"\"\"\n",
    "    }\n",
    "]\n",
    "\n",
    "response = get_completion(messages=message)\n",
    "print(response, \"\\n\\n\")"
   ]
  },
  {
   "cell_type": "code",
   "execution_count": null,
   "metadata": {},
   "outputs": [
    {
     "name": "stdout",
     "output_type": "stream",
     "text": [
      "The Good Samaritan law is designed to protect individuals who provide assistance to those who are injured or in danger, from being sued for any harm or injury that may occur during the rescue attempt. However, in this case, the California Supreme Court ruled that Lisa Toti was responsible for Alexandra Van Horn's injuries. The court's decision implies that Toti's actions may have exceeded the reasonable scope of a Good Samaritan's duty, and thus she is not protected under the Good Samaritan law. This ruling could set a precedent for future cases involving the Good Samaritan law, and it may impact how individuals respond to emergencies in the future. \n",
      "\n",
      "\n"
     ]
    }
   ],
   "source": [
    "# Without any specific role\n",
    "message = [\n",
    "    {\n",
    "        \"role\": \"user\",\n",
    "        \"content\": \"\"\"Please interpret the case regarding the Good Samaritan law from the following. \n",
    "case: \n",
    "The California Supreme Court recently made an interesting ruling related to the \"Good Samaritan law.\" This ruling concerns the legal dispute between Alexandra Van Horn and Lisa Toti. Here’s what happened: In 2004, Alexandra Van Horn and Lisa Toti were heading to a banquet with colleagues from the same factory. However, the car that Van Horn was in got into an accident, and Lisa Toti, who was in another car, pulled Van Horn out of her vehicle, which was stuck at the accident scene. Unfortunately, during this rescue, Van Horn sustained injuries that left her unable to use her lower body. Subsequently, Van Horn filed a lawsuit against Toti, claiming that she was paralyzed due to Toti's actions while trying to rescue her. The California Supreme Court ruled in a 4-3 decision, acknowledging Toti's responsibility.\"\"\"\n",
    "    }\n",
    "]\n",
    "\n",
    "response = get_completion(messages=message)\n",
    "print(response, \"\\n\\n\")"
   ]
  },
  {
   "cell_type": "markdown",
   "metadata": {},
   "source": [
    "#### **(2) Audience-Specific Prompt**"
   ]
  },
  {
   "cell_type": "markdown",
   "metadata": {},
   "source": [
    "Please compare how a speaker-specific prompt and its results differ. "
   ]
  },
  {
   "cell_type": "code",
   "execution_count": null,
   "metadata": {},
   "outputs": [
    {
     "name": "stdout",
     "output_type": "stream",
     "text": [
      "The Good Samaritan law is a rule that protects people who try to help others in emergencies. The name comes from a story in the Bible about a man who helped someone who was hurt, even though he wasn't expected to.\n",
      "\n",
      "In this case, Lisa Toti was driving with her friends, and one of her friends, Alexandra Van Horn, was in another car. Alexandra got into an accident, and Lisa tried to help her by pulling her out of the car. But while doing this, Alexandra got hurt and couldn't use her legs anymore. Alexandra then decided to take Lisa to court, saying that Lisa caused her injury.\n",
      "\n",
      "The California Supreme Court, which is a very important court in California, decided that Lisa was responsible for Alexandra's injury. This means that Lisa might have to pay for Alexandra's medical bills or other things that Alexandra needs because of her injury.\n",
      "\n",
      "Even though the Good Samaritan law is meant to protect people who try to help in emergencies, the court decided that Lisa was responsible because of the way she helped Alexandra. The court might have thought that Lisa didn't do what she was supposed to do to keep Alexandra safe while trying to help her. \n",
      "\n",
      "\n"
     ]
    }
   ],
   "source": [
    "message = [\n",
    "    {\n",
    "        \"role\": \"user\",\n",
    "        \"content\": \"\"\"You are currently talking with an elementary school student.\n",
    "Please interpret the case regarding the Good Samaritan law from the following.\n",
    "case: \n",
    "The California Supreme Court recently made an interesting ruling related to the \"Good Samaritan law.\" This ruling concerns the legal dispute between Alexandra Van Horn and Lisa Toti. Here’s what happened: In 2004, Alexandra Van Horn and Lisa Toti were heading to a banquet with colleagues from the same factory. However, the car that Van Horn was in got into an accident, and Lisa Toti, who was in another car, pulled Van Horn out of her vehicle, which was stuck at the accident scene. Unfortunately, during this rescue, Van Horn sustained injuries that left her unable to use her lower body. Subsequently, Van Horn filed a lawsuit against Toti, claiming that she was paralyzed due to Toti's actions while trying to rescue her. The California Supreme Court ruled in a 4-3 decision, acknowledging Toti's responsibility.\"\"\"\n",
    "    }\n",
    "]\n",
    "\n",
    "response = get_completion(messages=message)\n",
    "print(response, \"\\n\\n\")"
   ]
  },
  {
   "cell_type": "markdown",
   "metadata": {},
   "source": [
    "### **5.1.2 Style Prompting**"
   ]
  },
  {
   "cell_type": "markdown",
   "metadata": {},
   "source": [
    "This technique entails defining the **desired style, tone, or genre** within the prompt to influence the output of a large language model. A comparable outcome can often be achieved through role prompting. "
   ]
  },
  {
   "cell_type": "markdown",
   "metadata": {},
   "source": [
    "**Compare the Structural Prompts**\n",
    "\n",
    "These two prompts show noticeable distinctions."
   ]
  },
  {
   "cell_type": "code",
   "execution_count": null,
   "metadata": {},
   "outputs": [
    {
     "name": "stdout",
     "output_type": "stream",
     "text": [
      "\"BTS: The world's most charming, talented, and addictive K-pop sensation.\" \n",
      "\n",
      "\n"
     ]
    }
   ],
   "source": [
    "message = [\n",
    "    {\n",
    "        \"role\": \"user\",\n",
    "        \"content\": \"Write a ten-word sentence about BTS, the Korean singers, in a humorous tone.\"\n",
    "    }\n",
    "]\n",
    "\n",
    "response = get_completion(messages=message)\n",
    "print(response, \"\\n\\n\")"
   ]
  },
  {
   "cell_type": "code",
   "execution_count": null,
   "metadata": {},
   "outputs": [
    {
     "name": "stdout",
     "output_type": "stream",
     "text": [
      "BTS, seven-member South Korean band, creates captivating music and performances. \n",
      "\n",
      "\n"
     ]
    }
   ],
   "source": [
    "message = [\n",
    "    {\n",
    "        \"role\": \"user\",\n",
    "        \"content\": \"Write a ten-word sentence about BTS, the Korean singers.\"\n",
    "    }\n",
    "]\n",
    "\n",
    "response = get_completion(messages=message)\n",
    "print(response, \"\\n\\n\")"
   ]
  },
  {
   "cell_type": "markdown",
   "metadata": {},
   "source": [
    "- **Stylistic Constraints**\n",
    "\n",
    "For style prompting, we can also use `stylistic constraints`, which exist in all languages. This often consists of an adjective placed before a document type, such as in the examples:  \n",
    "\n",
    "- \"write a formal email to my boss.\"   \n",
    "\n",
    "- \"write a funny pickup line.\"\n",
    "\n",
    "Here are some stylistic constraint examples:  "
   ]
  },
  {
   "cell_type": "markdown",
   "metadata": {},
   "source": [
    "> writing style, tone, mood, characterization, pacing, plot and genre.  \n",
    "  \n",
    "- writing style: functional, flowery, candid, prosaic, ornate, poetic  \n",
    "\n",
    "- tone: dramatic, humorous, sad, optimistic, formal, informal, assertive, aggressive  \n",
    "\n",
    "- mood: angry, fearful, happy, sad  \n",
    "\n",
    "- pacing : fast and slow paces  "
   ]
  },
  {
   "cell_type": "markdown",
   "metadata": {},
   "source": [
    "### **5.1.3 Examples**"
   ]
  },
  {
   "cell_type": "markdown",
   "metadata": {},
   "source": [
    "**Example #1: Content Creation**  \n",
    "\n",
    "Compare the prompts: <ins>flowery</ins> vs <ins>functional</ins>"
   ]
  },
  {
   "cell_type": "code",
   "execution_count": null,
   "metadata": {},
   "outputs": [
    {
     "name": "stdout",
     "output_type": "stream",
     "text": [
      "Ah, the sunrise! A spectacle of such grandeur and beauty that it leaves one breathless and awe-struck. As the dark curtain of night gradually recedes, the first rays of the sun peek shyly over the horizon, painting the sky with a breathtaking palette of colors. Hues of fiery crimson, burnt orange, and molten gold blend seamlessly with the fading indigo and purple, creating a masterpiece that changes and evolves with each passing moment.\n",
      "\n",
      "The sun, our life-giving orb, ascends higher and higher, casting its warm, golden light over the slumbering world below. The landscape comes alive under its gentle touch, as if awakening from a dream. Dew-kissed flowers open their petals to greet the day, their vibrant colors a stark contrast against the green backdrop of the awakening foliage. Birds begin their morning serenades, their songs echoing through the crisp, fresh air, while the world stirs and stretches, shaking off the remnants of the night.\n",
      "\n",
      "The sunrise is a symbol of hope, of new beginnings, and of the eternal cycle of life. It is a reminder that no matter how dark the night may seem, the dawn will always break, bringing with it a new day, a new opportunity, and a new chance to make our dreams come true. It is a time of quiet reflection, of setting intentions for the day ahead, and of simply being present in the moment.\n",
      "\n",
      "So, let us pause, if only for a moment, to marvel at the splendor of the sunrise. Let us fill our hearts with gratitude for the beauty that surrounds us and the life that we have been blessed with. And let us carry the warmth and light of the sunrise within us, letting it guide us through the day and inspire us to create our own moments of beauty and joy. \n",
      "\n",
      "\n"
     ]
    }
   ],
   "source": [
    "message = [\n",
    "    {\n",
    "        \"role\": \"user\",\n",
    "        \"content\": \"Write a flowery passage about sunrise.\"\n",
    "    }\n",
    "]\n",
    "\n",
    "response = get_completion(messages=message)\n",
    "print(response, \"\\n\\n\")"
   ]
  },
  {
   "cell_type": "code",
   "execution_count": null,
   "metadata": {},
   "outputs": [
    {
     "name": "stdout",
     "output_type": "stream",
     "text": [
      "As the world begins to stir from its slumber, a subtle change takes place in the sky. The darkness that once enveloped the landscape begins to recede, giving way to the soft, pastel hues of dawn. The first rays of the sun peek over the horizon, casting a warm, golden glow that slowly creeps across the land. The air is crisp and fresh, filled with the promise of a new day. The trees and plants seem to come alive, their leaves and branches reaching up towards the light, as if in silent gratitude for the sun's return. The sunrise is a beautiful reminder of the constant cycle of life, a symbol of hope and renewal. \n",
      "\n",
      "\n"
     ]
    }
   ],
   "source": [
    "message = [\n",
    "    {\n",
    "        \"role\": \"user\",\n",
    "        \"content\": \"Write a functional passage about sunrise.\"\n",
    "    }\n",
    "]\n",
    "\n",
    "response = get_completion(messages=message)\n",
    "print(response, \"\\n\\n\")"
   ]
  },
  {
   "cell_type": "markdown",
   "metadata": {},
   "source": [
    "**Example #2: Business Email**"
   ]
  },
  {
   "cell_type": "code",
   "execution_count": null,
   "metadata": {},
   "outputs": [
    {
     "name": "stdout",
     "output_type": "stream",
     "text": [
      "Subject: Heartfelt Thanks for Your Outstanding Efforts and Successful Project Completion\n",
      "\n",
      "Dear [Team Members' Names],\n",
      "\n",
      "I hope this message finds you well. I am writing to express my deepest gratitude and appreciation for your exceptional dedication, hard work, and unwavering commitment throughout the duration of our recent project. As your team leader, I am incredibly proud to be a part of such a talented and driven group of individuals.\n",
      "\n",
      "The successful completion of this project is a testament to the collective efforts and achievements of our entire marketing team. I would like to take a moment to highlight some of the key accomplishments we have made together:\n",
      "\n",
      "1. [Accomplishment 1]: By [specific achievement], we have [positive impact on the company/clients].\n",
      "2. [Accomplishment 2]: Our [specific achievement] has [positive impact on the company/clients].\n",
      "3. [Accomplishment 3]: The [specific achievement] demonstrates our [positive attribute/skill], which will continue to benefit our team and organization in the future.\n",
      "\n",
      "I am truly grateful for the long hours, late nights, and extra efforts that each of you has put into ensuring the success of this project. Your professionalism, creativity, and collaborative spirit have not gone unnoticed, and I am confident that these qualities will continue to drive our team towards even greater accomplishments.\n",
      "\n",
      "As we move forward, I would like to provide a brief overview of the next steps in our project pipeline:\n",
      "\n",
      "1. [Next Step 1]: We will begin by [specific action], with the goal of [desired outcome].\n",
      "2. [Next Step 2]: Following the completion of [Next Step 1], we will [specific action], in order to [desired outcome].\n",
      "3. [Next Step 3]: To ensure the continued success of our team, we will [specific action], which will [positive impact on the team/company].\n",
      "\n",
      "I am excited to embark on these new challenges with each of you and am confident that, together, we will continue to exceed expectations and achieve greatness.\n",
      "\n",
      "Once again, thank you for your exceptional efforts, unwavering commitment, and outstanding achievements. I am honored to lead such an incredible team.\n",
      "\n",
      "Warm regards,\n",
      "\n",
      "[Your Name]\n",
      "[Your Title]\n",
      "[Your Contact Information] \n",
      "\n",
      "\n"
     ]
    }
   ],
   "source": [
    "message = [\n",
    "    {\n",
    "        \"role\": \"user\",\n",
    "        \"content\": \"write a formal and well-structured buisness email to my employees. As the team leader of the marketing team, I want to send a thank-you email to my team members after the project's completion. In this email, I want to emphasize the team's efforts and achievements, and include a brief overview of the next steps.\"\n",
    "    }\n",
    "]\n",
    "\n",
    "response = get_completion(messages=message)\n",
    "print(response, \"\\n\\n\")"
   ]
  },
  {
   "cell_type": "markdown",
   "metadata": {},
   "source": [
    "**References** \n",
    "\n",
    "Zheng, M., Pei, J., Logeswaran, L., Lee, M., & Jurgens, D. (2024, November). *When” A Helpful Assistant” Is Not Really Helpful: Personas in System Prompts Do Not Improve Performances of Large Language Models.* In Findings of the Association for Computational Linguistics: EMNLP 2024 (pp. 15126-15154).\n",
    "\n",
    "Lu, A., Zhang, H., Zhang, Y., Wang, X., & Yang, D. (2023). *Bounding the capabilities of large language models in open text generation with prompt constraints.* arXiv preprint arXiv:2302.09185."
   ]
  },
  {
   "cell_type": "markdown",
   "metadata": {},
   "source": [
    "---"
   ]
  },
  {
   "cell_type": "markdown",
   "metadata": {},
   "source": [
    "<a id=\"sec2\"></a>\n",
    "## **5.2 Maintaining Consistency in Response**"
   ]
  },
  {
   "cell_type": "markdown",
   "metadata": {},
   "source": [
    "**Constraints**\n",
    "\n",
    "- Define clear guidelines for expected **response formats**.  \n",
    "\n",
    "- Use **consistent terminology** throughout prompts to avoid confusion.  \n",
    "\n",
    "Constraints are particularly effective in *zero-shot prompt engineering* techniques."
   ]
  },
  {
   "cell_type": "markdown",
   "metadata": {},
   "source": [
    "### **5.2.1 Define Clear Guidelines for Expected Response Formats**\n",
    "\n",
    "- Specify the structure and components of the expected output.  \n",
    "\n",
    "- Examples of response formats:  \n",
    "\n",
    "    - **List Format**: “Provide a list of five benefits of regular exercise.”  \n",
    "\n",
    "    - **Paragraph Format**: “Explain the importance of renewable energy in a single paragraph.”  \n",
    "\n",
    "    - **Dialogue Format**: “Write a conversation between two characters (Name A and Name B) discussing their weekend plans. Include three multi-turn exchanges.”  "
   ]
  },
  {
   "cell_type": "markdown",
   "metadata": {},
   "source": [
    "#### **(1) Examples**"
   ]
  },
  {
   "cell_type": "markdown",
   "metadata": {},
   "source": [
    "**Example #1: List Format**"
   ]
  },
  {
   "cell_type": "code",
   "execution_count": null,
   "metadata": {},
   "outputs": [
    {
     "name": "stdout",
     "output_type": "stream",
     "text": [
      "1. Improved cardiovascular health: Regular exercise strengthens your heart and improves circulation, which can reduce the risk of heart disease.\n",
      "2. Weight management: Engaging in physical activity helps you maintain a healthy weight by burning calories and building muscle.\n",
      "3. Enhanced mental health: Exercise has been shown to alleviate symptoms of anxiety and depression, improve mood, and boost self-esteem.\n",
      "4. Increased energy levels: Regular physical activity helps deliver oxygen and nutrients to your tissues and helps your cardiovascular system work more efficiently, leading to increased energy levels.\n",
      "5. Better sleep: Regular exercise can help you fall asleep faster and deepen your sleep, which can improve overall sleep quality. \n",
      "\n",
      "\n"
     ]
    }
   ],
   "source": [
    "message = [\n",
    "    {\n",
    "        \"role\": \"user\",\n",
    "        \"content\": \"Provide a list of five benefits of regular exercise.\"\n",
    "    }\n",
    "]\n",
    "\n",
    "response = get_completion(messages=message)\n",
    "print(response, \"\\n\\n\")"
   ]
  },
  {
   "cell_type": "markdown",
   "metadata": {},
   "source": [
    "**Example #2: Paragraph Format**"
   ]
  },
  {
   "cell_type": "code",
   "execution_count": null,
   "metadata": {},
   "outputs": [
    {
     "name": "stdout",
     "output_type": "stream",
     "text": [
      "Renewable energy is of paramount importance for a sustainable future as it offers a clean, inexhaustible, and environmentally-friendly alternative to fossil fuels. Harnessing power from renewable sources like sunlight, wind, water, and geothermal heat helps reduce greenhouse gas emissions, mitigating climate change and improving air quality. Moreover, renewable energy technologies are becoming increasingly cost-competitive and accessible, fostering energy security, independence, and economic growth through job creation and technological innovation. By transitioning to renewables, we can ensure energy availability for future generations while protecting ecosystems and biodiversity. \n",
      "\n",
      "\n"
     ]
    }
   ],
   "source": [
    "message = [\n",
    "    {\n",
    "        \"role\": \"user\",\n",
    "        \"content\": \"Explain the importance of renewable energy in a single paragraph.\"\n",
    "    }\n",
    "]\n",
    "\n",
    "response = get_completion(messages=message)\n",
    "print(response, \"\\n\\n\")"
   ]
  },
  {
   "cell_type": "markdown",
   "metadata": {},
   "source": [
    "**Example #3: Dialogue Format**"
   ]
  },
  {
   "cell_type": "code",
   "execution_count": null,
   "metadata": {},
   "outputs": [
    {
     "name": "stdout",
     "output_type": "stream",
     "text": [
      "Name A: Hey, what are your plans for the weekend? I'm looking to do something fun and relaxing.\n",
      "\n",
      "Name B: Hi! That sounds great. I'm thinking about going hiking on Saturday. There's a beautiful trail not too far from here.\n",
      "\n",
      "Name A: Hiking sounds like a good idea. I haven't been in a while. How long is the trail and what's the level of difficulty?\n",
      "\n",
      "Name B: The trail is about 5 miles long, and it's considered moderate difficulty. There are some steep inclines, but the views at the top are worth it.\n",
      "\n",
      "Name A: I'm up for that challenge. Let's do it! How about Sunday? Any plans for the second day of the weekend?\n",
      "\n",
      "Name B: On Sunday, I plan on doing some meal prep for the week and maybe catch up on a few movies. How about you?\n",
      "\n",
      "Name A: That sounds like a relaxing way to spend the day. As for me, I might visit a local art gallery that I've been wanting to check out. Maybe we can meet up for dinner later in the evening?\n",
      "\n",
      "Name B: That sounds perfect! I'll look forward to hearing about your gallery visit and catching up over dinner. \n",
      "\n",
      "\n"
     ]
    }
   ],
   "source": [
    "message = [\n",
    "    {\n",
    "        \"role\": \"user\",\n",
    "        \"content\": \"Write a conversation between two characters (Name A and Name B) discussing their weekend plans. Include three multi-turn exchanges.\"\n",
    "    }\n",
    "]\n",
    "\n",
    "response = get_completion(messages=message)\n",
    "print(response, \"\\n\\n\")"
   ]
  },
  {
   "cell_type": "markdown",
   "metadata": {},
   "source": [
    "### **5.2.2 Use Consistent Terminology throughout Prompts** "
   ]
  },
  {
   "cell_type": "markdown",
   "metadata": {},
   "source": [
    "- Select specific terms and phrases to **use consistently** in all related prompts. This minimizes confusion and helps the model understand the context better.  \n",
    "\n",
    "    For example, if you choose \"user\" to refer to the person interacting with the model, use \"user\" instead of switching to \"client\" or \"participant.”"
   ]
  },
  {
   "cell_type": "markdown",
   "metadata": {},
   "source": [
    "### **5.2.3 Practice**"
   ]
  },
  {
   "cell_type": "markdown",
   "metadata": {},
   "source": [
    "**Exercise #1 : Response Format**"
   ]
  },
  {
   "cell_type": "markdown",
   "metadata": {},
   "source": [
    "Read the following text and summarize it. Limit the length. Group similar concepts together and classify them by type."
   ]
  },
  {
   "cell_type": "markdown",
   "metadata": {},
   "source": [
    "- Text :\n",
    "> **Face Amount**\n",
    "> \n",
    "> The dollar amount to be paid to the beneficiary when the insured dies. It does not include other amounts that may be paid from insurance purchased with dividends or any policy riders.\n",
    "> \n",
    "> **Financial Guarantee Insurance**\n",
    "> \n",
    "> A surety bond, insurance policy or, when issued by an insurer, an indemnity contract and any guaranty similar to the foregoing types, under which loss is payable upon proof of occurrence of financial loss to an insured claimant, obligee, or indemnitee.\n",
    "> \n",
    "> **Fire Insurance**\n",
    "> \n",
    "> Coverage for loss of or damage to a building and/or contents due to fire.\n",
    "> \n",
    "> **Good Driver Discount**\n",
    "> \n",
    "> To be eligible for the Good Drivers Discount all operators of the insured vehicles must have been licensed for three or more year, have no more than a one (1) point charge on their driving record and has not been determined \"at fault\" in an accident resulting in bodily injury or death to any person.\n",
    "> \n",
    "> **Grace Period**\n",
    "> \n",
    "> A specified period immediately following the premium due date during which a payment can be made to continue a policy in force without interruption. This applies only to Life and Health policies. Check your policy to be sure that a grace period is offered and how many days, if any, are allowed.\n",
    "> \n",
    "> **Guaranteed Insurability**\n",
    "> \n",
    "> An option that permits the policy holder to buy additional stated amounts of life insurance at stated times in the future without evidence of insurability.\n",
    "> \n",
    "> **Health Insurance**\n",
    "> \n",
    "> A policy that will pay specifies sums for medical expenses or treatments. Health policies can offer many options and vary in their approaches to coverage.\n",
    "> \n",
    "> **Homeowner Insurance**\n",
    "> \n",
    "> An elective combination of coverages for the risks of owning a home. Can include losses due to fire, burglary, vandalism, earthquake, and other perils.\n",
    "> \n",
    "> **Incontestable Clause**\n",
    "> \n",
    "> A policy provision in which the company agrees not to contest the validity of the contract after it has been in force for a certain period of time, usually two years."
   ]
  },
  {
   "cell_type": "code",
   "execution_count": null,
   "metadata": {},
   "outputs": [],
   "source": [
    "message = [\n",
    "    {\n",
    "        \"role\": \"user\",\n",
    "        \"content\": \" \" # ←- Insert your prompt here.\n",
    "    }\n",
    "]\n",
    "\n",
    "response = get_completion(messages=message)\n",
    "print(response, \"\\n\\n\")"
   ]
  },
  {
   "cell_type": "markdown",
   "metadata": {},
   "source": [
    "**$\\rightarrow$ Expected Output:**\n",
    "\n",
    "> 1. **Insurance Types**:\n",
    "> - Financial Guarantee Insurance: A contract that covers financial loss.\n",
    "> - Fire Insurance: Covers loss or damage due to fire.\n",
    "> - Health Insurance: Pays for medical expenses or treatments.\n",
    "> - Homeowner Insurance: Covers risks of owning a home, like fire, burglary, etc.\n",
    "> 2. **Policy Features**:\n",
    "> - Face Amount: The dollar amount paid to the beneficiary upon the insured's death.\n",
    "> - Good Driver Discount: Discount for drivers with clean records.\n",
    "> - Grace Period: Period after premium due date to continue a policy without interruption.\n",
    "> - Guaranteed Insurability: Option to buy additional insurance without evidence of insurability.\n",
    "> - Incontestable Clause: Provision preventing the company from contesting the contract's validity after a certain period.\n",
    "  \n",
    "  "
   ]
  },
  {
   "cell_type": "markdown",
   "metadata": {},
   "source": [
    "**Exercise #2: Terminology Consistency**"
   ]
  },
  {
   "cell_type": "markdown",
   "metadata": {},
   "source": [
    "Explain the differences between a 'meme' and a 'viral video' in the context of social media marketing. Use 'content' to refer to both."
   ]
  },
  {
   "cell_type": "code",
   "execution_count": null,
   "metadata": {},
   "outputs": [],
   "source": [
    "message = [\n",
    "    {\n",
    "        \"role\": \"user\",\n",
    "        \"content\": \" \" # ←- Insert your prompt here.\n",
    "    }\n",
    "]\n",
    "\n",
    "response = get_completion(messages=message)\n",
    "print(response, \"\\n\\n\")"
   ]
  },
  {
   "cell_type": "markdown",
   "metadata": {},
   "source": [
    "**$\\rightarrow$ Expected Output:**\n",
    "\n",
    "> A meme is a type of content that spreads humor or cultural ideas through images and text, while a viral video is a type of content that rapidly gains popularity and is shared widely across platforms. "
   ]
  }
 ],
 "metadata": {
  "kernelspec": {
   "display_name": "base",
   "language": "python",
   "name": "python3"
  },
  "language_info": {
   "codemirror_mode": {
    "name": "ipython",
    "version": 3
   },
   "file_extension": ".py",
   "mimetype": "text/x-python",
   "name": "python",
   "nbconvert_exporter": "python",
   "pygments_lexer": "ipython3",
   "version": "3.12.4"
  }
 },
 "nbformat": 4,
 "nbformat_minor": 2
}
