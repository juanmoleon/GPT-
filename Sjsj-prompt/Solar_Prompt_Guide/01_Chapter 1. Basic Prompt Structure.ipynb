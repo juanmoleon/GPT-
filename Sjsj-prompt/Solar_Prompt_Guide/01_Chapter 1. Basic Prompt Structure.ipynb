{
 "cells": [
  {
   "cell_type": "markdown",
   "metadata": {},
   "source": [
    "# **Chapter 1. Basic Prompt Structure** "
   ]
  },
  {
   "cell_type": "markdown",
   "metadata": {},
   "source": [
    "Upstage offers various types of APIs, including Chat, Text Embedding, Translation, Grounding Check, Layout Analysis, Key Information Extraction, and Document Processing. In this book, we will exclusively focus on using the `Chat API`.\n",
    "\n",
    "For more information about the APIs, please refer to the following [link](https://github.com/UpstageAI/cookbook?tab=readme-ov-file#api-list)."
   ]
  },
  {
   "cell_type": "markdown",
   "metadata": {},
   "source": [
    "- [ 1.1 Chat API ](#section1)\n",
    "- [ 1.2 Understanding Parameters ](#section2)\n",
    "- [ 1.3 Understanding Structure ](#section3)\n",
    "- [ 1.4 Understanding System Prompt ](#section4)"
   ]
  },
  {
   "cell_type": "markdown",
   "metadata": {},
   "source": [
    "---"
   ]
  },
  {
   "cell_type": "markdown",
   "metadata": {},
   "source": [
    "<a id=\"section1\"></a>\n",
    "## **1.1 `Chat API`**"
   ]
  },
  {
   "cell_type": "markdown",
   "metadata": {},
   "source": [
    "The Following is a standard API call format used to interact with Upstage’s API for generating chat completions."
   ]
  },
  {
   "cell_type": "code",
   "execution_count": null,
   "metadata": {},
   "outputs": [
    {
     "name": "stdout",
     "output_type": "stream",
     "text": [
      "Success!\n",
      "\n",
      " Upstage's products, UPstage Sage and UPstage Jurassic, can play a significant role in achieving our mission of AGI for Work. Here's how:\n",
      "\n",
      "1. UPstage Sage: This AI Document Processing tool can help us manage and analyze vast amounts of data. By extracting relevant information from documents, we can feed this data into our AGI systems for training and learning. This will enhance the AGI's ability to understand, interpret, and generate human-like text, thereby improving its performance in various work-related tasks.\n",
      "\n",
      "2. UPstage Jurassic: Our customizable, no-code AI solutions can be used to build and deploy AGI systems tailored to specific industries or tasks. By leveraging Jurassic, we can create AGI systems that can understand and perform a wide range of tasks, from customer service to data analysis, thereby increasing efficiency and productivity in the workplace.\n",
      "\n",
      "3. Continuous Learning and Improvement: Both Sage and Jurassic can be used in a continuous learning loop. As the AGI systems learn and improve, they can process more complex tasks, which in turn generates more data for Sage to analyze. This data can then be used to further train and improve the AGI systems, creating a cycle of continuous learning and improvement.\n",
      "\n",
      "4. Scalability: With Upstage's products, we can scale our AGI systems to handle increasing workloads and complexities. This scalability is crucial for achieving our mission of AGI for Work, as it allows us to serve a wider range of industries and tasks.\n",
      "\n",
      "In summary, Upstage's products can help us build, train, and scale AGI systems for work, thereby achieving our mission of AGI for Work. \n",
      "\n",
      "\n"
     ]
    }
   ],
   "source": [
    "from openai import OpenAI\n",
    "\n",
    "# Retrieve the UPSTAGE_API_KEY variable from the IPython store\n",
    "%store -r UPSTAGE_API_KEY\n",
    "\n",
    "try:\n",
    "    if UPSTAGE_API_KEY:\n",
    "        print(\"Success!\")\n",
    "except NameError as ne:\n",
    "    print(f\"Since, {ne}\")\n",
    "    print(\"Please, insert your API key.\")\n",
    "    UPSTAGE_API_KEY = input(\"UPSTAGE_API_KEY =\")\n",
    "\n",
    "# Set your API key: \n",
    "# UPSTAGE_API_KEY = \" \" ←- Insert your API key here. \n",
    "\n",
    "client = OpenAI(\n",
    "    api_key= UPSTAGE_API_KEY,\n",
    "    base_url=\"https://api.upstage.ai/v1/solar\"\n",
    ")\n",
    " \n",
    "response = client.chat.completions.create(\n",
    "    model=\"solar-pro\",\n",
    "    messages=[\n",
    "        {\n",
    "            \"role\": \"user\",\n",
    "            \"content\": \"Describe how we plan to leverage Upstage products to achieve your mission of AGI for Work.\"\n",
    "        }\n",
    "    ],\n",
    ")\n",
    "\n",
    "print('\\n', response.choices[0].message.content, '\\n\\n')\n"
   ]
  },
  {
   "cell_type": "markdown",
   "metadata": {},
   "source": [
    "---"
   ]
  },
  {
   "cell_type": "markdown",
   "metadata": {},
   "source": [
    "<a id=\"section2\"></a>\n",
    "## **1.2 Understanding Parameters**"
   ]
  },
  {
   "cell_type": "markdown",
   "metadata": {},
   "source": [
    "When performing prompt engineering, parameters are key to controlling how the model behaves and the type of output you receive. <br>\n",
    "Here’s a detailed explanation of these parameters and their role in the completion generation process."
   ]
  },
  {
   "cell_type": "markdown",
   "metadata": {},
   "source": [
    "- [model](#model)\n",
    "- [max_tokens](#maxtoken)\n",
    "- [temperature](#temp)\n",
    "- [Top_P](#topp)\n",
    "\n",
    "[**Summary**](#summary)"
   ]
  },
  {
   "cell_type": "markdown",
   "metadata": {},
   "source": [
    "### **1.2.1 Paramters**"
   ]
  },
  {
   "cell_type": "markdown",
   "metadata": {},
   "source": [
    "<a id=\"model\"></a>\n",
    "**`Model`**:\n",
    "\n",
    "The specific model you are intending to interact with. "
   ]
  },
  {
   "cell_type": "markdown",
   "metadata": {},
   "source": [
    "<a id=\"maxtoken\"></a>\n",
    "**`Max_Tokens`**: \n",
    "\n",
    "- This parameter limits the total number of tokens (words or parts of words) in the output. Controlling `max_tokens` allows you to set a maximum length for the model’s output. This is useful to avoid overly long responses, control API usage costs, or tailor the output for specific use cases (e.g., short answers, summaries, etc.).\n",
    "\n",
    "- **Hard Stop**:\n",
    "    - Prevents the model from generating tokens beyond the specific limit.\n",
    "    - The generation may stop mid-word or mid-sentence when the token limit is reached.\n",
    "\n",
    "- **Prompt Tokens**: The number of tokens in the input prompt.\n",
    "\n",
    "- If `max_tokens` is set, the sum of input tokens and max_tokens must be less than or equal to the model’s  context length (≤ 4096 )"
   ]
  },
  {
   "cell_type": "markdown",
   "metadata": {},
   "source": [
    "<a id=\"temp\"></a>\n",
    "**`Temperature`**:\n",
    "\n",
    "This parameter controls the randomness or creativity of the model’s responses. \n",
    "\n",
    "- A higher value allows for more flexibility, resulting in more diverse text generation.\n",
    "- A lower value makes the model more deterministic, typically generating more accurate and consistent output.\n",
    "\n",
    "The valid range is between **0** and **2.0** (`0 ≤ Temperature ≤ 2.0`).\n",
    "\n",
    "- **`0.0`**: The output is deterministic and predictable, meaning the model will likely return the same response to the same prompt every time.\n",
    "- **`0.7`**: This is a balanced level, where the model is creative but still focused. The responses may vary, but they tend to stay on topic.\n",
    "- **`2.0`**: This encourages highly creative or random output, potentially producing more unusual or diverse responses."
   ]
  },
  {
   "cell_type": "markdown",
   "metadata": {},
   "source": [
    "<a id=\"topp\"></a>\n",
    "**`Top_P`**: \n",
    "\n",
    " This is an alternative way to control the randomness of the model's output by considering the cumulative probability of token choices. `Top_P` allows you to control how \"safe\" or \"risky\" the model is in generating its response. Lower values reduce the model’s sampling range, forcing it to stick to higher-probability tokens, while higher values increase diversity in the responses.\n",
    "\n",
    "- **Top_P = 0.9**: the model will sample tokens from the smallest set whose cumulative probability is 90%.\n",
    "\n",
    "**! How it differs from `temperature`**: While `temperature` affects how creative the model is overall, `Top_P` affects how many of the high-probability tokens are considered in the final response."
   ]
  },
  {
   "cell_type": "markdown",
   "metadata": {},
   "source": [
    "<a id=\"summary\"></a>\n",
    "> **Summary** \n",
    "> \n",
    "> - **model**: Defines the specific AI model being used.\n",
    "> - **max_tokens**: Limits the length of the response.\n",
    "> - **temperature**: Controls the creativity or randomness of the response.\n",
    "> - **top_p**: Controls how many token choices the model considers based on probability."
   ]
  },
  {
   "cell_type": "markdown",
   "metadata": {},
   "source": [
    "### **1.2.2 Examples**"
   ]
  },
  {
   "cell_type": "markdown",
   "metadata": {},
   "source": [
    "**Example #1: Configuration**"
   ]
  },
  {
   "cell_type": "code",
   "execution_count": null,
   "metadata": {},
   "outputs": [],
   "source": [
    "config_model = {\n",
    "    \"model\": \"solar-pro\",\n",
    "    \"max_tokens\": 2000,\n",
    "    \"temperature\": 0.7,\n",
    "    \"top_p\": 0.9,\n",
    "}"
   ]
  },
  {
   "cell_type": "markdown",
   "metadata": {},
   "source": [
    "**Example #2: Temperature and Top_P Adjustment**\n",
    "\n",
    "Objective:  Compare how creativity and randomness affect responses. "
   ]
  },
  {
   "cell_type": "code",
   "execution_count": null,
   "metadata": {},
   "outputs": [
    {
     "name": "stdout",
     "output_type": "stream",
     "text": [
      "AI has the potential to revolutionize healthcare in many ways. Here are a few potential benefits:\n",
      "\n",
      "1. Improved Diagnosis: AI can analyze complex medical data and help doctors make more accurate diagnoses. For example, AI algorithms can analyze medical images to detect diseases like cancer at an early stage.\n",
      "\n",
      "2. Personalized Treatment: AI can help doctors create personalized treatment plans based on a patient's genetic makeup, lifestyle, and other factors. This can lead to more effective treatments and better patient outcomes.\n",
      "\n",
      "3. Drug Discovery: AI can help researchers discover new drugs and treatments faster and more efficiently. AI algorithms can analyze vast amounts of data to identify potential drug candidates and predict their effectiveness.\n",
      "\n",
      "4. Remote Monitoring: AI-powered wearable devices and remote monitoring systems can help doctors keep track of patients' health in real-time. This can help doctors detect health issues early and provide timely interventions.\n",
      "\n",
      "5. Administrative Efficiency: AI can help healthcare providers streamline administrative tasks, such as scheduling appointments, managing patient records, and processing insurance claims. This can help reduce costs and improve patient care.\n",
      "\n",
      "6. Mental Health: AI-powered chatbots and virtual therapists can provide mental health support to patients who may not have access to traditional therapy. These tools can help patients manage stress, anxiety, and depression.\n",
      "\n",
      "7. Predictive Analytics: AI can help healthcare providers predict health trends and identify potential health risks before they become serious issues. This can help providers take proactive measures to prevent diseases and improve patient outcomes. \n",
      "\n",
      "\n"
     ]
    }
   ],
   "source": [
    "config_robust = {\n",
    "    \"model\": \"solar-pro\",\n",
    "    \"messages\": [\n",
    "        {\n",
    "            \"role\": \"user\",\n",
    "            \"content\": \"What are the potential benefits of AI in healthcare?\"\n",
    "        }\n",
    "    ],\n",
    "    \"max_tokens\": 2000,\n",
    "    \"temperature\": 0.0,\n",
    "    \"top_p\": 0.8\n",
    "}\n",
    "\n",
    "response = client.chat.completions.create(**config_robust)\n",
    "print(response.choices[0].message.content, '\\n\\n')"
   ]
  },
  {
   "cell_type": "code",
   "execution_count": null,
   "metadata": {},
   "outputs": [
    {
     "name": "stdout",
     "output_type": "stream",
     "text": [
      "AI has the potential to transform various aspects of healthcare, bringing about numerous benefits. Here are some of them:\n",
      "\n",
      "1. Improved Diagnosis: AI can help in early detection of diseases such as cancer by analyzing medical images with higher accuracy and consistency than human professionals.\n",
      "\n",
      "2. Personalized Treatment: AI can analyze patient data to develop customized treatment plans, taking into account their medical history, genetics, lifestyle, and other factors.\n",
      "\n",
      "3. More Accurate Predictions: AI can help predict outbreaks of diseases by analyzing patterns and trends in large sets of data, enabling better preparedness and prevention measures.\n",
      "\n",
      "4. Better Drug Discovery: AI can speed up the process of drug discovery by analyzing vast amounts of data to identify potential compounds and predict their effects.\n",
      "\n",
      "5. Improved Clinical Trials: AI can help identify suitable participants for clinical trials, analyze real-time results, and monitor symptoms, making the process more efficient and effective.\n",
      "\n",
      "6. Enhanced Patient Engagement: AI-powered chatbots can help patients manage their health conditions by providing personalized advice, reminders, and answering their queries.\n",
      "\n",
      "7. Reduced Healthcare Costs: By improving efficiency, reducing errors, and enabling early intervention, AI can help in cutting down healthcare costs.\n",
      "\n",
      "8. Increased Access to Healthcare: AI can help bring healthcare services to remote or underserved regions by enabling remote diagnosis and monitoring.\n",
      "\n",
      "9. Workflow Efficiency: AI can automate administrative tasks such as scheduling appointments, managing patient records, and processing insurance claims, allowing healthcare professionals to focus on patient care.\n",
      "\n",
      "10. Enhanced Research: AI can help analyze vast amounts of medical literature and data, assisting researchers in making new discoveries and advancing medical knowledge.\n",
      "\n",
      "Remember, while AI holds great promise in healthcare, it also poses certain challenges and risks, such as data privacy and bias. It's important to address these issues as we embrace AI in healthcare. \n",
      "\n",
      "\n"
     ]
    }
   ],
   "source": [
    "config_creative = {\n",
    "    \"model\": \"solar-pro\",\n",
    "    \"messages\": [\n",
    "        {\n",
    "            \"role\": \"user\",\n",
    "            \"content\": \"What are the potential benefits of AI in healthcare?\"\n",
    "        }\n",
    "    ],\n",
    "    \"max_tokens\": 2000,\n",
    "    \"temperature\": 1.0,\n",
    "    \"top_p\": 1.0\n",
    "}\n",
    "\n",
    "response = client.chat.completions.create(**config_creative)\n",
    "print(response.choices[0].message.content, '\\n\\n')"
   ]
  },
  {
   "cell_type": "markdown",
   "metadata": {},
   "source": [
    "**Example #3: Limiting Output with Max_Tokens**\n",
    "\n",
    "Objective: Control the length of responses and stop them at specific points. "
   ]
  },
  {
   "cell_type": "code",
   "execution_count": null,
   "metadata": {},
   "outputs": [
    {
     "name": "stdout",
     "output_type": "stream",
     "text": [
      "Sure, I'd be happy to explain! Upstage is a company that provides AI solutions, and one of their key offerings is their natural language processing (NLP) models. These models are designed to understand, interpret, and generate human language in a way that's similar to how humans do it.\n",
      "\n",
      "Here's a simple way to understand it: Have you ever used a voice assistant like Siri or Alexa? When you ask a question or give a command, these assistants use NLP to understand what you're saying. They break down your words into smaller parts, determine the meaning behind them, and then respond in a way that makes sense.\n",
      "\n",
      "Upstage's NLP models work in a similar way. They take in a piece of text, like a sentence or a paragraph, and analyze it. They look at the words, the order of the words, the context, and other factors to understand what the text is saying. Then, they can generate a response or perform an action based on that understanding.\n",
      "\n",
      "For example, if you asked Upstage's NLP model, \"What's the weather like today?\", it would analyze your question, determine that you're asking about the weather, and then provide you with the current weather conditions. It's like having a conversation with a really smart friend who knows a lot about different topics!\n",
      "\n",
      "So, in a nutshell, Upstage's NLP models handle natural language processing by understanding the meaning behind human language and responding in a way that's both accurate and helpful. \n",
      "\n",
      "\n"
     ]
    }
   ],
   "source": [
    "config_output_400 = {\n",
    "    \"model\": \"solar-pro\",\n",
    "    \"messages\": [\n",
    "        {\n",
    "            \"role\": \"user\",\n",
    "            \"content\": \"Explain how Upstage AI models handle natural language processing. Explain it in a way that non-developers can easily understand.\"\n",
    "        }\n",
    "    ],\n",
    "    \"max_tokens\": 400,\n",
    "    \"temperature\": 0.7,\n",
    "}\n",
    "\n",
    "response = client.chat.completions.create(**config_output_400)\n",
    "print(response.choices[0].message.content, '\\n\\n')"
   ]
  },
  {
   "cell_type": "code",
   "execution_count": null,
   "metadata": {},
   "outputs": [
    {
     "name": "stdout",
     "output_type": "stream",
     "text": [
      "Of course! Natural Language Processing (NLP) is a branch of AI that helps computers understand, interpret, and generate human language. Upstage's AI models handle NLP in \n",
      "\n",
      "\n"
     ]
    }
   ],
   "source": [
    "config_output_40 = {\n",
    "    \"model\": \"solar-pro\",\n",
    "    \"messages\": [\n",
    "        {\n",
    "            \"role\": \"user\",\n",
    "            \"content\": \"Explain how Upstage AI models handle natural language processing. Explain it in a way that non-developers can easily understand.\"\n",
    "        }\n",
    "    ],\n",
    "    \"max_tokens\": 40,\n",
    "    \"temperature\": 0.7,\n",
    "}\n",
    "\n",
    "response = client.chat.completions.create(**config_output_40)\n",
    "print(response.choices[0].message.content, '\\n\\n')"
   ]
  },
  {
   "cell_type": "markdown",
   "metadata": {},
   "source": [
    "---"
   ]
  },
  {
   "cell_type": "markdown",
   "metadata": {},
   "source": [
    "<a id=\"section3\"></a>\n",
    "## **1.3 Understanding Structure**"
   ]
  },
  {
   "cell_type": "markdown",
   "metadata": {},
   "source": [
    "### **1.3.1 Input Structure** "
   ]
  },
  {
   "cell_type": "markdown",
   "metadata": {},
   "source": [
    "**`messages`** :\n",
    "\n",
    "This is an array containing the conversation context. It includes exchanges between the user and the model. Each element contains: \n",
    "\n",
    "- “**role**”:\n",
    "    \n",
    "    The role can be `\"user\"`, `\"assistant\"`, or `\"system\"`, indicating the source of the message.\n",
    "    \n",
    "    In the case of `\"role\": \"system\"`, it sets the behavior, tone, and knowledge base of the assistant, acting as an initial instruction.\n",
    "    \n",
    "    In the case of `\"role\": \"user\"`, it specifies that the message comes from the user.\n",
    "    \n",
    "    In the case of `\"role\": \"assistant\"`, it contains responses generated by the AI to address the user’s queries or continue the conversation."
   ]
  },
  {
   "cell_type": "markdown",
   "metadata": {},
   "source": [
    "### **1.3.2 Example**"
   ]
  },
  {
   "cell_type": "code",
   "execution_count": null,
   "metadata": {},
   "outputs": [],
   "source": [
    "{\n",
    "  \"role\": \"system\",\n",
    "  \"content\": \"You are my Assistant. Your role is to answer my questions faithfully and in detail.\"\n",
    "}"
   ]
  },
  {
   "cell_type": "code",
   "execution_count": null,
   "metadata": {},
   "outputs": [],
   "source": [
    "{\n",
    "  \"role\": \"user\",\n",
    "  \"content\": \"Hello, Solar. Can you help me plan a weekend trip to New York City?\"\n",
    "}"
   ]
  },
  {
   "cell_type": "code",
   "execution_count": null,
   "metadata": {},
   "outputs": [],
   "source": [
    "{\n",
    "  \"role\": \"assistnat\",\n",
    "  \"content\": \"Hello! I'd be happy to help you plan your weekend trip to New York City. Let's start by discussing your interests and preferences. Are you looking for sightseeing, shopping, diningor perhaps a mix of all?\"\n",
    "}"
   ]
  },
  {
   "cell_type": "markdown",
   "metadata": {},
   "source": [
    "---"
   ]
  },
  {
   "cell_type": "markdown",
   "metadata": {},
   "source": [
    "<a id=\"section4\"></a>\n",
    "## **1.4 Understanding System Prompt**"
   ]
  },
  {
   "cell_type": "markdown",
   "metadata": {},
   "source": [
    "### **1.4.1 System Prompt**"
   ]
  },
  {
   "cell_type": "markdown",
   "metadata": {},
   "source": [
    "**The system prompt** plays a key role in shaping how the AI model interprets and responds to user inputs. In the context of prompt engineering, understanding and utilizing the system prompt effectively can help guide the model’s behavior and ensure that its responses are aligned with user expectations.  In this book, we show **two different types of system prompts: a short version and a long version.** "
   ]
  },
  {
   "cell_type": "markdown",
   "metadata": {},
   "source": [
    "> **Tips**:\n",
    ">\n",
    "> If the system prompt is short, the responses tend to be brief; if the system prompt is long, the responses are generally longer. "
   ]
  },
  {
   "cell_type": "markdown",
   "metadata": {},
   "source": [
    "### **1.4.2 Examples**"
   ]
  },
  {
   "cell_type": "markdown",
   "metadata": {},
   "source": [
    "**Example #1: Short Version**"
   ]
  },
  {
   "cell_type": "code",
   "execution_count": null,
   "metadata": {},
   "outputs": [
    {
     "name": "stdout",
     "output_type": "stream",
     "text": [
      "Blockchain is a decentralized and distributed digital ledger that is used to record transactions across many computers in a secure and transparent manner. It is the underlying technology behind cryptocurrencies such as Bitcoin, but its potential uses extend far beyond that.\n",
      "\n",
      "At its core, a blockchain is a chain of blocks, where each block contains a number of transactions. Once a block is added to the chain, it cannot be altered or deleted, making the blockchain a permanent and immutable record of all the transactions that have ever taken place on it.\n",
      "\n",
      "One of the key features of a blockchain is its decentralization. Instead of being stored on a single central server, the blockchain is stored on a network of computers, or nodes, that are spread out across the world. This means that there is no single point of failure, and the blockchain can continue to function even if some of the nodes go offline.\n",
      "\n",
      "Another important feature of a blockchain is its security. Because the blockchain is distributed across a network of nodes, it is very difficult for anyone to tamper with the data on it. In order to alter the blockchain, a hacker would need to gain control of a majority of the nodes in the network, which is practically impossible. Additionally, the use of cryptographic algorithms ensures that the data on the blockchain is encrypted and secure.\n",
      "\n",
      "The use of blockchain technology has the potential to revolutionize a wide range of industries, including finance, healthcare, supply chain management, and more. For example, in the finance industry, blockchain can be used to facilitate faster and more secure cross-border payments, reduce the risk of fraud, and lower the costs associated with intermediaries such as banks and other financial institutions. In the healthcare industry, blockchain can be used to securely store and share patient data, improve the accuracy of medical records, and streamline the process of clinical trials.\n",
      "\n",
      "In summary, blockchain is a powerful and innovative technology that has the potential to transform the way we do business and interact with each other. Its decentralized, secure, and transparent nature makes it well-suited for a wide range of applications, and its potential uses are only limited by our imagination. \n",
      "\n",
      "\n"
     ]
    }
   ],
   "source": [
    "config_model = {\n",
    "    \"model\": \"solar-pro\",\n",
    "    \"max_tokens\": 2000,\n",
    "    \"temperature\": 0.7,\n",
    "    \"top_p\": 0.9,\n",
    "}\n",
    "\n",
    "message = [\n",
    "    {\n",
    "        \"role\": \"system\",\n",
    "        \"content\": \"You are an AI assistant to help user's various tasks. Please provide me with an accurate information.\"\n",
    "    },\n",
    "    {\n",
    "        \"role\": \"user\",\n",
    "        \"content\": \"Explain about Blockchain in detail.\"\n",
    "    }\n",
    "]\n",
    "\n",
    "config = {**config_model, \"messages\": message}\n",
    "\n",
    "response = client.chat.completions.create(**config)\n",
    "print(response.choices[0].message.content, '\\n\\n')"
   ]
  },
  {
   "cell_type": "markdown",
   "metadata": {},
   "source": [
    "**Example #2: Long Version**"
   ]
  },
  {
   "cell_type": "code",
   "execution_count": null,
   "metadata": {},
   "outputs": [
    {
     "name": "stdout",
     "output_type": "stream",
     "text": [
      "Blockchain is a decentralized, distributed ledger technology that allows for secure, transparent, and tamper-proof recording of transactions. It was first introduced as the underlying technology for the cryptocurrency Bitcoin, but its potential uses extend far beyond that.\n",
      "\n",
      "At its core, a blockchain is a chain of blocks, where each block contains a number of transactions. Once a block is added to the chain, it cannot be altered or deleted, making the entire history of transactions on the blockchain immutable.\n",
      "\n",
      "Here are some key features and concepts related to blockchain:\n",
      "\n",
      "1. Decentralization: A blockchain is maintained by a network of computers, rather than a central authority. This makes it more resistant to censorship, hacking, and other forms of interference.\n",
      "2. Distributed Ledger: A blockchain is a shared database that is distributed across the network of computers. This means that every participant on the network has access to the same information, and can verify the accuracy of the data.\n",
      "3. Consensus Mechanisms: In order to add a new block to the chain, the network must reach a consensus on its validity. This is typically done through a process called mining, where computers on the network compete to solve a complex mathematical problem. The first computer to solve the problem gets to add the new block to the chain, and is rewarded with a certain amount of cryptocurrency.\n",
      "4. Smart Contracts: A smart contract is a self-executing contract with the terms of the agreement between buyer and seller being directly written into lines of code. They allow for the automation of complex processes, such as the transfer of assets, without the need for a third-party intermediary.\n",
      "5. Cryptography: Blockchain uses advanced cryptography to secure the transactions on the network. Each block is linked to the previous block through a complex cryptographic hash function, making it nearly impossible to alter the data in any block without also altering all the subsequent blocks.\n",
      "\n",
      "There are several types of blockchains, including public, private, and permissioned. Public blockchains, like Bitcoin and Ethereum, are open to anyone and allow for anonymous participation. Private blockchains, on the other hand, are restricted to a specific group of participants and allow for more control over the network. Permissioned blockchains are a hybrid of the two, allowing for some level of control over the network while also enabling participation from a wider group of users.\n",
      "\n",
      "Blockchain has the potential to revolutionize a wide range of industries, from finance and banking to supply chain management and healthcare. Its ability to provide secure, transparent, and tamper-proof record-keeping can help to reduce fraud, increase efficiency, and build trust between parties. However, it also presents a number of challenges, such as scalability, energy consumption, and regulatory uncertainty.\n",
      "\n",
      "In summary, blockchain is a powerful and innovative technology that has the potential to transform the way we conduct transactions and share information. Its decentralized, distributed, and cryptographic nature makes it secure, transparent, and tamper-proof, while its ability to enable smart contracts and support a wide range of use cases makes it a versatile tool for building the next generation of digital applications. \n",
      "\n",
      "\n"
     ]
    }
   ],
   "source": [
    "config_model = {\n",
    "    \"model\": \"solar-pro\",\n",
    "    \"max_tokens\": 2000,\n",
    "    \"temperature\": 0.7,\n",
    "    \"top_p\": 0.9,\n",
    "}\n",
    "\n",
    "message = [\n",
    "    {\n",
    "        \"role\": \"system\",\n",
    "        \"content\": \"Your name is Solar. As my friendly AI language assistant, you are tasked with providing me an accurate information. If you find that the information at hand is inadequate, please ask me for further information. [Strong Rule] If you don't have any real-time information about the user’s query, please be honesty.\"\n",
    "    },\n",
    "    {\n",
    "        \"role\": \"user\",\n",
    "        \"content\": \"Explain about Blockchain in detail.\"\n",
    "    }\n",
    "]\n",
    "\n",
    "config = {**config_model, \"messages\": message}\n",
    "\n",
    "response = client.chat.completions.create(**config)\n",
    "print(response.choices[0].message.content, '\\n\\n')"
   ]
  },
  {
   "cell_type": "markdown",
   "metadata": {},
   "source": [
    "### **1.4.3 Practice**\n",
    "\n",
    "Try switching between the short and long versions of the system prompt with different questions to experience the difference in responses."
   ]
  },
  {
   "cell_type": "markdown",
   "metadata": {},
   "source": [
    "**Short System Prompt**"
   ]
  },
  {
   "cell_type": "code",
   "execution_count": null,
   "metadata": {},
   "outputs": [],
   "source": [
    "message = [\n",
    "    {\n",
    "        \"role\": \"system\",\n",
    "        \"content\": \"You are an AI assistant to help user's various tasks. Please provide me with an accurate information.\"\n",
    "    },\n",
    "    {\n",
    "        \"role\": \"user\",\n",
    "        \"content\": \" \" # ←- Insert your prompt here.\n",
    "    }\n",
    "]\n",
    "\n",
    "config = {**config_model, \"messages\": message}\n",
    "\n",
    "response = client.chat.completions.create(**config)\n",
    "print(response.choices[0].message.content, \"\\n\\n\")"
   ]
  },
  {
   "cell_type": "markdown",
   "metadata": {},
   "source": [
    "**Long System Prompt**"
   ]
  },
  {
   "cell_type": "code",
   "execution_count": null,
   "metadata": {},
   "outputs": [],
   "source": [
    "message = [\n",
    "    {\n",
    "        \"role\": \"system\",\n",
    "        \"content\": \"Your name is Solar. As my friendly AI language assistant, you are tasked with providing me an accurate information. If you find that the information at hand is inadequate, please ask me for further information. [Strong Rule] If you don't have any real-time information about the user’s query, please be honesty.\"\n",
    "    },\n",
    "    {\n",
    "        \"role\": \"user\",\n",
    "        \"content\": \" \" # ←- Insert your prompt here.\n",
    "    }\n",
    "]\n",
    "\n",
    "config = {**config_model, \"messages\": message}\n",
    "\n",
    "response = client.chat.completions.create(**config)\n",
    "print(response.choices[0].message.content, \"\\n\\n\")"
   ]
  },
  {
   "cell_type": "markdown",
   "metadata": {},
   "source": [
    "**Custom Your System Prompt**"
   ]
  },
  {
   "cell_type": "code",
   "execution_count": null,
   "metadata": {},
   "outputs": [],
   "source": [
    "config_your_model = {\n",
    "    \"model\": \"solar-pro\",\n",
    "    \"max_tokens\": 0.0,  # ←- Insert your max_tokens: 0.0 ~ here. \n",
    "    \"temperature\": 0.0, # ←- Insert your temperature: 0.0 ~ 2.0 here.\n",
    "    \"top_p\": 0.0,       # ←- Insert your top_p: 0.0 ~ 1.0 here.\n",
    "}\n",
    "\n",
    "message = [\n",
    "    {\n",
    "        \"role\": \"system\",\n",
    "        \"content\": \" \" # ←- Insert your system prompt here.\n",
    "    },\n",
    "    {\n",
    "        \"role\": \"user\",\n",
    "        \"content\": \" \" # ←- Insert your prompt here.\n",
    "    }\n",
    "]\n",
    "\n",
    "config = {**config_your_model, \"messages\": message}\n",
    "\n",
    "response = client.chat.completions.create(**config)\n",
    "print(response.choices[0].message.content)"
   ]
  }
 ],
 "metadata": {
  "kernelspec": {
   "display_name": "base",
   "language": "python",
   "name": "python3"
  },
  "language_info": {
   "codemirror_mode": {
    "name": "ipython",
    "version": 3
   },
   "file_extension": ".py",
   "mimetype": "text/x-python",
   "name": "python",
   "nbconvert_exporter": "python",
   "pygments_lexer": "ipython3",
   "version": "3.12.4"
  }
 },
 "nbformat": 4,
 "nbformat_minor": 2
}
