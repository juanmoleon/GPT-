{
 "cells": [
  {
   "cell_type": "markdown",
   "metadata": {},
   "source": [
    "# **Chapter 3. Five Focal Prompt Elements and Types**"
   ]
  },
  {
   "cell_type": "markdown",
   "metadata": {},
   "source": [
    "In this chapter, we will review the five focal elements of a well-constructed prompt and the different types of prompts that utilize these elements: `Instruction, Context, Example, Input Data, Output.`  \n",
    "\n",
    "These elements form the foundation of effective communication with Solar, ensuring the responses generated align with your desired outcomes."
   ]
  },
  {
   "cell_type": "markdown",
   "metadata": {},
   "source": [
    "**Set up**"
   ]
  },
  {
   "cell_type": "code",
   "execution_count": null,
   "metadata": {},
   "outputs": [
    {
     "name": "stdout",
     "output_type": "stream",
     "text": [
      "Success!\n"
     ]
    }
   ],
   "source": [
    "from openai import OpenAI\n",
    "\n",
    "# Retrieve the UPSTAGE_API_KEY variable from the IPython store\n",
    "%store -r UPSTAGE_API_KEY\n",
    "\n",
    "try:\n",
    "    if UPSTAGE_API_KEY:\n",
    "        print(\"Success!\")\n",
    "except NameError as ne:\n",
    "    print(f\"Since, {ne}\")\n",
    "    print(\"Please, insert your API key.\")\n",
    "    UPSTAGE_API_KEY = input(\"UPSTAGE_API_KEY =\")\n",
    "\n",
    "# Set your API key: \n",
    "# UPSTAGE_API_KEY = \" \" ←- Insert your API key here. \n",
    "\n",
    "client = OpenAI(\n",
    "    api_key= UPSTAGE_API_KEY,\n",
    "    base_url=\"https://api.upstage.ai/v1/solar\"\n",
    ")\n",
    "\n",
    "config_model = {\n",
    "    \"model\": \"solar-pro\",\n",
    "    \"max_tokens\": 2000,\n",
    "    \"temperature\": 0.7,\n",
    "    \"top_p\": 0.9,\n",
    "}\n",
    "\n",
    "def get_completion(messages, system_prompt=\"\", config=config_model):\n",
    "    try:\n",
    "        if system_prompt:\n",
    "            messages = [{\"role\": \"system\", \"content\": system_prompt}] + messages\n",
    "\n",
    "        message = client.chat.completions.create(messages=messages, **config)\n",
    "        return message.choices[0].message.content\n",
    "    \n",
    "    except Exception as e:\n",
    "        print(f\"Error during API call: {e}\")\n",
    "        return None"
   ]
  },
  {
   "cell_type": "markdown",
   "metadata": {},
   "source": [
    "---"
   ]
  },
  {
   "cell_type": "markdown",
   "metadata": {},
   "source": [
    "## **3.1 Focal Elements**"
   ]
  },
  {
   "cell_type": "markdown",
   "metadata": {},
   "source": [
    "- **`Instruction`**  \n",
    "\n",
    "    - The instruction is the core component of a prompt that directs the model on what task to perform. A good instruction should be explicit, concise, and goal-oriented.\n",
    "\n",
    "- **`Context`**  \n",
    "\n",
    "    - Context provides background information or framing that helps the model generate a more relevant response. It could include past interactions, user-specific information, or task-related details.\n",
    "\n",
    "- **`Example`**  \n",
    "\n",
    "    - Examples are useful for guiding the model's response style and format. Providing one or more examples can help the model understand what is expected in terms of tone, content, or output structure. (The use of examples in prompts is fully addressed in Chapter 4.)\n",
    "\n",
    "- **`Input Data`**  \n",
    "\n",
    "    - Input data refers to the specific content that the model should work on, whether it is a text passage, numerical data, or any other type of input. This element allows the model to generate a detailed response based on the provided content.\n",
    "    \n",
    "- **`Output`**  \n",
    "\n",
    "    - The output element specifies what the response should look like, such as its structure, tone, or length. Clearly defining the desired output can help the model align its response to meet your expectations. ( Controlling and modifying the final output is covered in detail in Chapter 5. )\n",
    "\n",
    "    Combining these five focal elements in different ways creates various types of prompts. \n",
    "    \n",
    "    Below are **four prompt types A to D**: \n",
    "\n",
    "    - `Type A`: Instruction + Output  \n",
    "\n",
    "    - `Type B`: Instruction + Context + Output  \n",
    "\n",
    "    - `Type C`: Instruction + Context + Example + Output  \n",
    "    \n",
    "    - `Type D`: Instruction + Input Data + Output   \n",
    "\n",
    "\n",
    "    **Throughout all chpaters, prompt types A to D are utilized.**   \n",
    "\n"
   ]
  },
  {
   "cell_type": "markdown",
   "metadata": {},
   "source": [
    "**Benefits of Using These Types for Prompt Crafting** \n",
    "\n",
    "There are several benefits to using these types for prompt crafting:  \n",
    "\n",
    "1. **Finding the Best Combination for Each Task**  \n",
    "\n",
    "    - Every task requires a different type of prompt structure. By testing these types, you can find the best combination that works effectively for each task.  \n",
    "\n",
    "2. **Ease of Testing Prompt Optimization**  \n",
    "\n",
    "    - These types make it easier to test and optimize prompts, allowing you to refine and improve the model's responses efficiently.  "
   ]
  },
  {
   "cell_type": "markdown",
   "metadata": {},
   "source": [
    "---"
   ]
  },
  {
   "cell_type": "markdown",
   "metadata": {},
   "source": [
    "## **3.2 Examples**"
   ]
  },
  {
   "cell_type": "markdown",
   "metadata": {},
   "source": [
    "**Type A: Instruction + Output**"
   ]
  },
  {
   "cell_type": "code",
   "execution_count": null,
   "metadata": {},
   "outputs": [],
   "source": [
    "# Instruction Only\n",
    "message = [\n",
    "    {\n",
    "        \"role\": \"user\",\n",
    "        \"content\": \"Write a short summary of the main events of the Industrial and Technological Revolution.\"\n",
    "    }\n",
    "]\n",
    "\n",
    "response = get_completion(messages=message)"
   ]
  },
  {
   "cell_type": "code",
   "execution_count": null,
   "metadata": {},
   "outputs": [
    {
     "name": "stdout",
     "output_type": "stream",
     "text": [
      "The Industrial Revolution, which began in the late 18th century, marked a significant shift from agrarian, handcrafted economies to machine-driven, industrialized societies. Key events included the invention of the steam engine by James Watt, the mechanization of textile production, and the development of iron and steel manufacturing techniques. This led to urbanization, improved transportation networks, and increased productivity.\n",
      "\n",
      "The Technological Revolution, also known as the Digital Revolution, started in the mid-20th century and continues to this day. It's characterized by the rapid advancement and adoption of digital technologies. Key events include the development of the transistor, the creation of the first computers, the invention of the internet, and the proliferation of mobile devices and artificial intelligence. These innovations have transformed communication, business, and everyday life, leading to a more interconnected and data-driven world. \n",
      "\n",
      "\n"
     ]
    }
   ],
   "source": [
    "# Output\n",
    "print(response, \"\\n\\n\")"
   ]
  },
  {
   "cell_type": "markdown",
   "metadata": {},
   "source": [
    "**Type B: Instruction + Context + Output**"
   ]
  },
  {
   "cell_type": "code",
   "execution_count": null,
   "metadata": {},
   "outputs": [],
   "source": [
    "# Instruction + Context\n",
    "Instruction = \"Write a short summary of the main events of the Industrial and Technological Revolution\"\n",
    "Context = \" in a way that engages high school students, as if presented by a professional history teacher.\"\n",
    "\n",
    "message = [\n",
    "    {\n",
    "        \"role\": \"user\",\n",
    "        \"content\": Instruction + Context\n",
    "    }\n",
    "]\n",
    "\n",
    "response = get_completion(messages=message)"
   ]
  },
  {
   "cell_type": "code",
   "execution_count": null,
   "metadata": {},
   "outputs": [
    {
     "name": "stdout",
     "output_type": "stream",
     "text": [
      "Greetings, young historians! Today, we're embarking on a thrilling journey through time to the era of the Industrial and Technological Revolution, a period that transformed our world in ways you can't even imagine!\n",
      "\n",
      "Our story begins in the late 18th century in Britain, where the Industrial Revolution first took root. Imagine a world where everything was handmade, from clothes to tools to textiles. Then, along came inventions like the spinning jenny, the steam engine, and the power loom, which revolutionized manufacturing and made goods cheaper and more accessible.\n",
      "\n",
      "The Industrial Revolution also sparked urbanization, as people flocked to cities in search of work in the new factories. This led to the rise of the working class and, unfortunately, harsh working conditions, including child labor. But it also gave birth to labor unions and the fight for workers' rights.\n",
      "\n",
      "Fast forward to the 19th century, and we enter the era of the Technological Revolution. This was a time of incredible innovation and progress, from the telegraph and the telephone to the light bulb and the automobile. The world was shrinking, and information was becoming more accessible than ever before.\n",
      "\n",
      "The Technological Revolution also had a profound impact on science and medicine. We saw the invention of the microscope and the telescope, which expanded our understanding of the world around us and beyond. We also saw advancements in medicine, such as the discovery of germs and the development of vaccines.\n",
      "\n",
      "But with all this progress came challenges and consequences. The burning of fossil fuels led to pollution and climate change. The rapid pace of change led to social upheaval and inequality. And the rise of new technologies also led to the displacement of workers and the concentration of wealth in the hands of a few.\n",
      "\n",
      "So, what can we learn from the Industrial and Technological Revolution? That progress and innovation are essential for human advancement, but we must also be mindful of their consequences and work to ensure that everyone benefits. That's a lesson that's just as relevant today as it was then.\n",
      "\n",
      "And that, my friends, is the story of the Industrial and Technological Revolution. A tale of innovation, progress, and change that shaped the world we live in today. Now, let's take a moment to reflect on what we've learned and think about how we can apply it to our own lives and our own future. \n",
      "\n",
      "\n"
     ]
    }
   ],
   "source": [
    "# Output\n",
    "print(response, \"\\n\\n\")"
   ]
  },
  {
   "cell_type": "markdown",
   "metadata": {},
   "source": [
    "**Type C: Instruction + Context + Example + Output**"
   ]
  },
  {
   "cell_type": "code",
   "execution_count": null,
   "metadata": {},
   "outputs": [],
   "source": [
    "# Instruction + Context + Example\n",
    "Instruction = \"Write a short summary of the main events of the Industrial and Technological Revolution\"\n",
    "Context = \" in a way that engages high school students, as if presented by a professional history teacher.\"\n",
    "Example = \" For instance, imagine walking through a bustling 19th-century factory, where the sounds of machines hum like a symphony, and the air is filled with the excitement of innovation. In this era, the steam engine transformed transportation, factories replaced handcrafting, and groundbreaking inventions like the telegraph revolutionized communication.\"\n",
    "\n",
    "message = [\n",
    "    {\n",
    "        \"role\": \"user\",\n",
    "        \"content\": Instruction + Context + Example\n",
    "    }\n",
    "]\n",
    "\n",
    "response = get_completion(messages=message)"
   ]
  },
  {
   "cell_type": "code",
   "execution_count": null,
   "metadata": {},
   "outputs": [
    {
     "name": "stdout",
     "output_type": "stream",
     "text": [
      "Hey there, future historians! Let's hop into our time machine and journey back to the Industrial and Technological Revolution. Imagine stepping into a bustling 19th-century factory—the air is thick with anticipation, and the symphony of machines hums around you. This is the era that reshaped our world!\n",
      "\n",
      "First up, the steam engine—a game-changer in transportation. Gone were the days of relying solely on horses and wind for power. Steam-powered trains and ships connected people, goods, and ideas like never before. It was as if the world had shrunk, and we could explore it all in a single lifetime.\n",
      "\n",
      "Now, let's peek inside the factories. The age of handcrafting was giving way to mass production. Machines, powered by steam or water, were taking over tasks once done by hand. This shift brought about a new kind of workforce—the factory worker. While it meant longer hours and often harsh conditions, it also created countless job opportunities and fueled economic growth.\n",
      "[Slight pause for dramatic effect]\n",
      "\n",
      "But wait, there's more! The revolution didn't stop at manufacturing. It reached into our homes and transformed the way we communicate. Enter the telegraph, a revolutionary invention that sent messages across vast distances in mere minutes. No more waiting for weeks to receive a letter from a loved one. The telegraph was the precursor to our modern-day internet, making information accessible and instantaneous.\n",
      "\n",
      "So, there you have it—a whirlwind tour of the Industrial and Technological Revolution. It was a time of immense change, challenges, and opportunities. And guess what? Its impact is still felt today, shaping the world we live in. Fascinating, isn't it? \n",
      "\n",
      "\n"
     ]
    }
   ],
   "source": [
    "# Output\n",
    "print(response, \"\\n\\n\")"
   ]
  },
  {
   "cell_type": "markdown",
   "metadata": {},
   "source": [
    "**Type D: Instruction + Input Data + Output**"
   ]
  },
  {
   "cell_type": "code",
   "execution_count": null,
   "metadata": {},
   "outputs": [],
   "source": [
    "# Input Data: Second Industrial Revolution\n",
    "\n",
    "Input_Data = \"\"\"\n",
    "The Second Industrial Revolution, also known as the Technological Revolution, was a phase of rapid scientific discovery, standardisation, mass production and industrialisation from the late 19th century into the early 20th century. The First Industrial Revolution, which ended in the middle of the 19th century, was punctuated by a slowdown in important inventions before the Second Industrial Revolution in 1870. Though a number of its events can be traced to earlier innovations in manufacturing, such as the establishment of a machine tool industry, the development of methods for manufacturing interchangeable parts, as well as the invention of the Bessemer process and open hearth furnace to produce steel, later developments heralded the Second Industrial Revolution, which is generally dated between 1870 and 1914 (the beginning of World War I).\n",
    "\n",
    "Advancements in manufacturing and production technology enabled the widespread adoption of technological systems such as telegraph and railroad networks, gas and water supply, and sewage systems, which had earlier been limited to a few select cities. The enormous expansion of rail and telegraph lines after 1870 allowed unprecedented movement of people and ideas, which culminated in a new wave of globalization. In the same time period, new technological systems were introduced, most significantly electrical power and telephones. The Second Industrial Revolution continued into the 20th century with early factory electrification and the production line; it ended at the beginning of World War I.\n",
    "\n",
    "Starting in 1947, the Information Age is sometimes also called the Third Industrial Revolution.\n",
    "\n",
    "\"\"\"\n",
    "\n",
    "# Reference: Wikipedia(https://en.wikipedia.org/wiki/Second_Industrial_Revolution)"
   ]
  },
  {
   "cell_type": "code",
   "execution_count": null,
   "metadata": {},
   "outputs": [],
   "source": [
    "# Instruction + Input Data\n",
    "Instruction = \"Write a short summary of the main events of the Industrial and Technological Revolution based on [Input Data] below:\\n\"\n",
    "\n",
    "message = [\n",
    "    {\n",
    "        \"role\": \"user\",\n",
    "        \"content\": Instruction + Input_Data\n",
    "    }\n",
    "]\n",
    "\n",
    "response = get_completion(messages=message)"
   ]
  },
  {
   "cell_type": "code",
   "execution_count": null,
   "metadata": {},
   "outputs": [
    {
     "name": "stdout",
     "output_type": "stream",
     "text": [
      "The Industrial and Technological Revolution, also known as the Second Industrial Revolution, was a period of rapid scientific discovery, standardisation, mass production, and industrialisation that occurred from the late 19th century to the early 20th century. It was preceded by a slowdown in important inventions after the First Industrial Revolution. Key developments included the establishment of a machine tool industry, the development of methods for manufacturing interchangeable parts, and the invention of the Bessemer process and open hearth furnace for steel production.\n",
      "\n",
      "The revolution led to the widespread adoption of technological systems such as telegraph and railroad networks, gas and water supply, and sewage systems. The expansion of rail and telegraph lines facilitated the movement of people and ideas, leading to a new wave of globalization. New technological systems, such as electrical power and telephones, were also introduced during this period. The Second Industrial Revolution continued into the 20th century with early factory electrification and the production line, ending at the beginning of World War I. The Information Age, starting in 1947, is sometimes referred to as the Third Industrial Revolution.\n"
     ]
    }
   ],
   "source": [
    "# Output\n",
    "print(response)"
   ]
  },
  {
   "cell_type": "markdown",
   "metadata": {},
   "source": [
    "---"
   ]
  },
  {
   "cell_type": "markdown",
   "metadata": {},
   "source": [
    "## **3.3 Practice**"
   ]
  },
  {
   "cell_type": "markdown",
   "metadata": {},
   "source": [
    "Let's practice!\n",
    "\n",
    "- `Type A`: Instruction + Output\n",
    "\n",
    "- `Type B`: Instruction + Context + Output\n",
    "\n",
    "- `Type C`: Instruction + Context + Example + Output\n",
    "\n",
    "- `Type D`: Instruction + Input Data + Output"
   ]
  },
  {
   "cell_type": "markdown",
   "metadata": {},
   "source": [
    "**Type A**: \n",
    "\n",
    "Please write a prompt type A that converts the following word to lowercase. \n",
    "\n",
    "[APPLE, BANANA, CHERRY]"
   ]
  },
  {
   "cell_type": "code",
   "execution_count": null,
   "metadata": {},
   "outputs": [],
   "source": [
    "# Type A\n",
    "message = [\n",
    "    {\n",
    "        \"role\": \"user\",\n",
    "        \"content\": \" \" # ←- Insert your prompt here.\n",
    "    }\n",
    "]\n",
    "\n",
    "response = get_completion(messages=message)\n",
    "print(response, \"\\n\\n\")"
   ]
  },
  {
   "cell_type": "markdown",
   "metadata": {},
   "source": [
    "**Type B:** \n",
    "\n",
    "Please write a prompt type B that extracts the three key points from the following article and summarizes them in bullet points."
   ]
  },
  {
   "cell_type": "markdown",
   "metadata": {},
   "source": [
    "- Article: \n",
    "\n",
    "    > A federal jury ruled Friday that Masimo smartwatches infringed Apple patents, but Apple isn’t getting a big payday.\n",
    "    >\n",
    "    > [Bloomberg Law reports](https://news.bloomberglaw.com/ip-law/apple-wins-250-in-mixed-jury-verdict-over-smartwatch-patents) that the company was only seeking the statutory minimum of $250, and that’s all it was awarded. Apple’s attorney John Desmarais reportedly told jurors, “We’re not here for the money.” Instead, he said the company hoped to force Masimo to “stop copying our design.”\n",
    "    > \n",
    "    > The company may have been disappointed on that front. The jury did [find](https://www.documentcloud.org/documents/25253303-apple-v-masimo-verdict) that the original design for Masimo’s W1 Freedom and health module, as well as its original charger, infringed on Apple design patents, and that the infringement was willful.\n",
    "    > \n",
    "    > However, in a statement, Masimo noted that the findings only applied to “a discontinued module and charger,” not its current products.\n",
    "    > \n",
    "    > “Apple primarily sought an injunction against Masimo’s current products, and the jury’s verdict is a victory for Masimo on that issue,” the medical device company said.\n",
    "    > \n",
    "    > The trial resulted from Apple’s countersuit in its ongoing legal battle with Masimo, which started with the Masimo’s claim that its patents had been infringed by the Apple Watch’s pulse-oximetry feature, which allows Watch owners to measure their blood oxygen levels. Apple disabled the feature in the Apple Watch Series 9 and Ultra 2, and it’s also missing from [the new Series 10](https://techcrunch.com/2024/09/10/apple-watch-blood-oxygen-detection-wont-be-available-on-the-series-10-in-the-u-s/). These limitations only apply in the United States, with Apple is appealing an import ban on models with the contested feature.\n",
    "    > \n",
    "    > Desmerais reportedly told the jury that the pulse-oximetry feature “has nothing to do with this case.”\n",
    "\n",
    "source: https://techcrunch.com/2024/10/26/apple-wins-250-from-masimo-in-watch-patent-trial/"
   ]
  },
  {
   "cell_type": "code",
   "execution_count": null,
   "metadata": {},
   "outputs": [],
   "source": [
    "# Type B\n",
    "message = [\n",
    "    {\n",
    "        \"role\": \"user\",\n",
    "        \"content\": \" \" # ←- Insert your prompt here.\n",
    "    }\n",
    "]\n",
    "\n",
    "response = get_completion(messages=message)\n",
    "print(response, \"\\n\\n\")"
   ]
  },
  {
   "cell_type": "markdown",
   "metadata": {},
   "source": [
    "**Type C**:\n",
    "\n",
    "Please provide a type C prompt to define \"gate lice\" in a dictionary-like manner. Include an example for clarity."
   ]
  },
  {
   "cell_type": "code",
   "execution_count": null,
   "metadata": {},
   "outputs": [],
   "source": [
    "# Type C\n",
    "message = [\n",
    "    {\n",
    "        \"role\": \"user\",\n",
    "        \"content\": \" \" # ←- Insert your prompt here.\n",
    "    }\n",
    "]\n",
    "\n",
    "response = get_completion(messages=message)\n",
    "print(response, \"\\n\\n\")"
   ]
  },
  {
   "cell_type": "markdown",
   "metadata": {},
   "source": [
    "**Type D**:\n",
    "\n",
    "Create a type D prompt that provides a detailed explanation of Art Deco using the following input values."
   ]
  },
  {
   "cell_type": "code",
   "execution_count": null,
   "metadata": {},
   "outputs": [],
   "source": [
    "Input_data = \"Tamara de Lempicka’s 'Young Woman in Green,' painted between 1927 and 1930, is a defining work of the Art Deco star whose art has attracted a resurgence of interest in recent decades. Bertrand Prévost/Centre Pompidou/Orange Logic/RMP/2024 Tamara de Lempicka Estate, LLC/ADAGP, Paris/ARS, NY Digital image/CNAC/MNAM, Dist. RMN-Grand Palais/Art Resource, NY\" "
   ]
  },
  {
   "cell_type": "code",
   "execution_count": null,
   "metadata": {},
   "outputs": [],
   "source": [
    "# Type D\n",
    "message = [\n",
    "    {\n",
    "        \"role\": \"user\",\n",
    "        \"content\": \" \" # ←- Insert your prompt here.\n",
    "    }\n",
    "]\n",
    "\n",
    "response = get_completion(messages=message)\n",
    "print(response)"
   ]
  }
 ],
 "metadata": {
  "kernelspec": {
   "display_name": "base",
   "language": "python",
   "name": "python3"
  },
  "language_info": {
   "codemirror_mode": {
    "name": "ipython",
    "version": 3
   },
   "file_extension": ".py",
   "mimetype": "text/x-python",
   "name": "python",
   "nbconvert_exporter": "python",
   "pygments_lexer": "ipython3",
   "version": "3.12.4"
  }
 },
 "nbformat": 4,
 "nbformat_minor": 2
}
