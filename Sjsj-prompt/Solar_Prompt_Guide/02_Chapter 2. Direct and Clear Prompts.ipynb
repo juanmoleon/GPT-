{
 "cells": [
  {
   "cell_type": "markdown",
   "metadata": {},
   "source": [
    "# **Chapter 2. Direct and Clear Prompts**"
   ]
  },
  {
   "cell_type": "markdown",
   "metadata": {},
   "source": [
    "Solar gives you the best result when use a **direct and clear** prompt. \n",
    "\n",
    "When working with large language models, the way you phrase your prompts can greatly influence the quality of the responses you receive.\n",
    "In this chapter, we'll explore two key recipes to make your prompts more effective:"
   ]
  },
  {
   "cell_type": "markdown",
   "metadata": {},
   "source": [
    "- [2.1 `Using Action Verbs`](#actionverb)\n",
    "- [2.2 `Simplifying Language`](#simple)"
   ]
  },
  {
   "cell_type": "markdown",
   "metadata": {},
   "source": [
    "**Set up**"
   ]
  },
  {
   "cell_type": "code",
   "execution_count": null,
   "metadata": {},
   "outputs": [
    {
     "name": "stdout",
     "output_type": "stream",
     "text": [
      "Success!\n"
     ]
    }
   ],
   "source": [
    "from openai import OpenAI\n",
    "\n",
    "# Retrieve the UPSTAGE_API_KEY variable from the IPython store\n",
    "%store -r UPSTAGE_API_KEY\n",
    "\n",
    "try:\n",
    "    if UPSTAGE_API_KEY:\n",
    "        print(\"Success!\")\n",
    "except NameError as ne:\n",
    "    print(f\"Since, {ne}\")\n",
    "    print(\"Please, insert your API key.\")\n",
    "    UPSTAGE_API_KEY = input(\"UPSTAGE_API_KEY =\")\n",
    "\n",
    "# Set your API key: \n",
    "# UPSTAGE_API_KEY = \" \" ←- Insert your API key here. \n",
    "\n",
    "client = OpenAI(\n",
    "    api_key= UPSTAGE_API_KEY,\n",
    "    base_url=\"https://api.upstage.ai/v1/solar\"\n",
    ")\n",
    "\n",
    "config_model = {\n",
    "    \"model\": \"solar-pro\",\n",
    "    \"max_tokens\": 2000,\n",
    "    \"temperature\": 0.7,\n",
    "    \"top_p\": 0.9,\n",
    "}\n",
    "\n",
    "def get_completion(messages, system_prompt=\"\", config=config_model):\n",
    "    try:\n",
    "        if system_prompt:\n",
    "            messages = [{\"role\": \"system\", \"content\": system_prompt}] + messages\n",
    "\n",
    "        message = client.chat.completions.create(messages=messages, **config)\n",
    "        return message.choices[0].message.content\n",
    "    \n",
    "    except Exception as e:\n",
    "        print(f\"Error during API call: {e}\")\n",
    "        return None"
   ]
  },
  {
   "cell_type": "markdown",
   "metadata": {},
   "source": [
    "---"
   ]
  },
  {
   "cell_type": "markdown",
   "metadata": {},
   "source": [
    "<a id=\"actionverb\"></a>\n",
    "## **2.1 Using Action Verbs**"
   ]
  },
  {
   "cell_type": "markdown",
   "metadata": {},
   "source": [
    "### **2.1.1 Effective Action Verbs for Prompt Clarity**"
   ]
  },
  {
   "cell_type": "markdown",
   "metadata": {},
   "source": [
    "`Action verbs` are the most powerful because they tell the model exactly what action you want it to perform. They make your prompts more direct and easier to follow. The following are common action verbs that can be used in your prompts:  \n",
    "\n",
    "> explain, describe, list, compare, summarize, define, calculate, translate, create, solve "
   ]
  },
  {
   "cell_type": "markdown",
   "metadata": {},
   "source": [
    "### **2.1.2 Examples**"
   ]
  },
  {
   "cell_type": "markdown",
   "metadata": {},
   "source": [
    "**Example #1: \"Explain\"**  \n",
    "\n",
    "- Vague Prompt:  \n",
    "\n",
    "    - \"I want to know about photosynthesis.”\n",
    "\n",
    "- Improved Prompt:  \n",
    "\n",
    "    - \"<font color=\"black\">**Explain**</font> the process of photosynthesis step by step.” \n",
    "\n",
    "**Comparing Results**  \n",
    "\n",
    "- Vague Prompt:\n",
    "\n",
    "    > \"Photosynthesis is the process by which green plants and some other organisms use sunlight to synthesize nutrients from carbon dioxide and water. In plants, photosynthesis typically occurs in the leaves, specifically in the chloroplasts which contain chlorophyll. The process consists of two main stages: the light-dependent reactions and the light-independent reactions, also known as the Calvin cycle. During photosynthesis, plants release oxygen as a byproduct, making it crucial for the survival of other organisms, including humans.\"\n",
    "\n",
    "- Improved Prompt:\n",
    "\n",
    "    > \"Of course! Photosynthesis is a process used by plants and other organisms to convert light energy, usually from the sun, into chemical energy. Here's a step-by-step explanation:\n",
    "    >\n",
    "    > 1. **Light Absorption**: Plants absorb light energy using a pigment called chlorophyll, which is found in chloroplasts within the plant cells.\n",
    "    > 2. **Water Splitting**: The absorbed light energy is used to split water molecules into hydrogen and oxygen atoms. This process is known as photolysis.\n",
    "    > 3. **Electron Transfer**: The hydrogen atoms released during photolysis are then used to generate ATP (adenosine triphosphate) and NADPH (nicotinamide adenine dinucleotide phosphate), which are energy-rich molecules.\n",
    "    > 4. **Carbon Fixation**: The ATP and NADPH produced in the previous step are used in the Calvin cycle, where carbon dioxide is fixed into a stable, organic molecule called glucose. This process is also known as carbon fixation.\n",
    "    > 5. **Glucose Utilization**: The glucose produced can be used by the plant for energy or stored for later use. Oxygen, a byproduct of photosynthesis, is released into the atmosphere.\n",
    "    > \n",
    "    > That's the basic process of photosynthesis!\"  \n",
    "    "
   ]
  },
  {
   "cell_type": "markdown",
   "metadata": {},
   "source": [
    "**Example #2: \"Describe\"**\n",
    "\n",
    "- Vague Prompt:  \n",
    "\n",
    "    - \"Tell me something about the Great Wall of China.\"\n",
    "    \n",
    "- Improved Prompt:  \n",
    "\n",
    "    - \"**Describe** the historical significance of the Great Wall of China.\"\n",
    "    \n",
    "**Comparing Results**  \n",
    "    \n",
    "- Vague Prompt: \n",
    "\n",
    "    > \"The Great Wall of China is a series of fortifications made of stone, brick, and other materials, built along the historical northern borders of China. It was primarily constructed during the Ming Dynasty (1368-1644) to protect against invasions from various nomadic groups. The wall stretches over 13,000 miles, making it the longest wall in the world. It is also one of the most famous landmarks in China and a UNESCO World Heritage Site. Would you like to know more about its history or other aspects?\"\n",
    "\n",
    "- Improved Prompt: \n",
    "\n",
    "    > \"The Great Wall of China is a monumental feat of engineering and a symbol of China's rich history. It was built over several centuries, starting around the 7th century BC, with the primary purpose of protecting Chinese states and empires from invasions and raids by various nomadic groups. The wall's historical significance lies in its role as a defensive barrier, a symbol of national unity, and a testament to the ingenuity and determination of the Chinese people. It also served as a means of controlling trade and immigration along the Silk Road. Today, the Great Wall is recognized as one of the most iconic landmarks in the world and a UNESCO World Heritage Site.\"  \n",
    "      "
   ]
  },
  {
   "cell_type": "markdown",
   "metadata": {},
   "source": [
    "### **2.1.3 Practice**"
   ]
  },
  {
   "cell_type": "markdown",
   "metadata": {},
   "source": [
    "Add action verbs to improve these prompts. "
   ]
  },
  {
   "cell_type": "markdown",
   "metadata": {},
   "source": [
    "**Exercise #1**\n",
    "\n",
    "- Vague Prompt:   \n",
    "\n",
    "    - \"I need help with fractions.\"  \n",
    "\n",
    "    *Response*:  \n",
    "    \n",
    "    - \"I'm here to help you with fractions! What do you need help with? Addition, subtraction, multiplication, division, or something else?\"  "
   ]
  },
  {
   "cell_type": "code",
   "execution_count": null,
   "metadata": {},
   "outputs": [],
   "source": [
    "# Improved Prompt:\n",
    "answer = \" \" # ←- Insert your prompt here.\n",
    "\n",
    "message = [\n",
    "    {\n",
    "        \"role\": \"user\",\n",
    "        \"content\": answer\n",
    "    }\n",
    "]\n",
    "\n",
    "response = get_completion(messages=message)\n",
    "print(response, \"\\n\\n\")"
   ]
  },
  {
   "cell_type": "markdown",
   "metadata": {},
   "source": [
    "**Exercise #2**\n",
    "\n",
    "- Vague Prompt:  \n",
    "\n",
    "    - \"What is India’s Zomato?\"  \n",
    "    \n",
    "    *Response*:  \n",
    "\n",
    "    - \"India's Zomato is a popular food delivery and restaurant discovery platform. It's one of the leading online food ordering services in India, offering a wide range of cuisines from various restaurants and eateries. Zomato also provides restaurant reviews, menus, and contact information for users to explore and discover new food options.\"    "
   ]
  },
  {
   "cell_type": "code",
   "execution_count": null,
   "metadata": {},
   "outputs": [],
   "source": [
    "# Improved Prompt:\n",
    "answer = \" \" # ←- Insert your prompt here.\n",
    "\n",
    "message = [\n",
    "    {\n",
    "        \"role\": \"user\",\n",
    "        \"content\": answer\n",
    "    }\n",
    "]\n",
    "\n",
    "response = get_completion(messages=message)\n",
    "print(response, \"\\n\\n\")"
   ]
  },
  {
   "cell_type": "markdown",
   "metadata": {},
   "source": [
    "---"
   ]
  },
  {
   "cell_type": "markdown",
   "metadata": {},
   "source": [
    "<a id=\"simple\"></a>\n",
    "## **2.2 Simplifying Language**"
   ]
  },
  {
   "cell_type": "markdown",
   "metadata": {},
   "source": [
    "### **2.2.1 Choosing Clear Language**"
   ]
  },
  {
   "cell_type": "markdown",
   "metadata": {},
   "source": [
    "Simple and clear language helps the Solar understand your request without confusion. Avoid complex words and long sentences."
   ]
  },
  {
   "cell_type": "markdown",
   "metadata": {},
   "source": [
    "#### **Tips for Better Prompts**\n",
    "1. **Use simple, everyday language.** \n",
    "2. **Break down long sentences into shorter ones.** Each sentence should express a single idea clearly.\n",
    "3. **Be specific.** Instead of asking for a general overview, specify what information you need."
   ]
  },
  {
   "cell_type": "markdown",
   "metadata": {},
   "source": [
    "### **2.2.2 Example**"
   ]
  },
  {
   "cell_type": "markdown",
   "metadata": {},
   "source": [
    "- **Complex Prompt**\n",
    "\n",
    "    - System Prompt:  \n",
    "\n",
    "        - \"You are an AI assistant to help user's various tasks. Please provide me with an accurate information.\"   \n",
    "    \n",
    "    - User Prompt:  \n",
    "\n",
    "        - \"Explicate the intricate and interwoven ramifications inherent in the phenomenon of deforestation, probing into the layered ecological disruptions, the nuanced socio-economic ramifications for marginalized communities, and the cascading effects on global climatic equilibria and biogeochemical cycles. Consider the potential feedback loops generated by such anthropogenic activities and their implications for both micro and macro environmental paradigms.\"  \n",
    "\n",
    "    - Response:  \n",
    "    \n",
    "        > Deforestation, the large-scale removal of forests, has profound and interconnected consequences that span ecological, socio-economic, and global climatic domains.\n",
    "        > \n",
    "        > Ecologically, deforestation disrupts habitats, leading to biodiversity loss and species extinction. It also alters ecosystem functions, such as nutrient cycling, water filtration, and carbon sequestration. The removal of trees exposes soil to erosion, leading to sedimentation in waterways and reduced soil fertility.\n",
    "        > \n",
    "        > Socio-economically, deforestation often disproportionately affects marginalized communities who rely on forests for their livelihoods, such as indigenous peoples and rural farmers. The loss of forests can lead to food insecurity, displacement, and increased poverty.\n",
    "        > \n",
    "        > On a global scale, deforestation contributes significantly to climate change. Trees absorb carbon dioxide, a major greenhouse gas, and their removal releases this stored carbon back into the atmosphere. This exacerbates global warming, leading to a cascade of effects on biogeochemical cycles, such as altered precipitation patterns and increased frequency of extreme weather events.\n",
    "        > \n",
    "        > Feedback loops further complicate the issue. For instance, as global temperatures rise, forests become more susceptible to wildfires and pests, leading to further deforestation. Additionally, the loss of forests can lead to reduced rainfall, further stressing remaining forests and creating a vicious cycle.\n",
    "        > \n",
    "        > In summary, deforestation has far-reaching and interconnected consequences that span ecological, socio-economic, and global climatic domains. Its impacts are felt at both micro and macro levels, with feedback loops exacerbating the issue."
   ]
  },
  {
   "cell_type": "markdown",
   "metadata": {},
   "source": [
    "- **Simple Prompt**\n",
    "\n",
    "    - System Prompt:  \n",
    "\n",
    "        - \"You are an AI assistant to help user's various tasks. Please provide me with an accurate information.\"  \n",
    "    \n",
    "    - User Prompt:  \n",
    "\n",
    "        - \"Explain how cutting down trees affects nature, people, and the economy. What are the impacts on animals, the climate, and the lives of local communities?\"  \n",
    "\n",
    "    - Response:  \n",
    "    \n",
    "        > Cutting down trees, also known as deforestation, has significant impacts on nature, people, and the economy. Here are some of the key effects:\n",
    "        >\n",
    "        > 1. Nature: Deforestation leads to habitat loss for many animal species, causing a decline in biodiversity. It also disrupts ecosystems, affecting the balance of flora and fauna.\n",
    "        > 2. Climate: Trees absorb carbon dioxide, a greenhouse gas, and release oxygen. When forests are cut down, this natural carbon sink is lost, contributing to climate change. Additionally, burning trees releases stored carbon, further exacerbating the issue.\n",
    "        > 3. Animals: Deforestation threatens the survival of many animal species, particularly those that are endemic to specific forests. It also disrupts migration patterns and food chains.\n",
    "        > 4. People: Local communities often rely on forests for resources like food, medicine, and shelter. Deforestation can lead to the loss of these resources, impacting their livelihoods and well-being.\n",
    "        > 5. Economy: While deforestation can provide short-term economic benefits through activities like logging and agriculture, it can also have long-term negative impacts. These include reduced tourism, increased vulnerability to natural disasters, and the loss of potential future resources like medicinal plants.\n",
    "        > \n",
    "        > In summary, deforestation has far-reaching consequences for nature, people, and the economy. It's crucial to promote sustainable practices to minimize these impacts."
   ]
  },
  {
   "cell_type": "markdown",
   "metadata": {},
   "source": [
    " **Comparing Results**\n",
    "- Complex Prompt:   \n",
    "\n",
    "    > Long, verbose, and difficult for users to parse.  \n",
    "\n",
    "- Simple Prompt:  \n",
    "\n",
    "    > Straightforward and results in a clearer, more concise response.  "
   ]
  },
  {
   "cell_type": "markdown",
   "metadata": {},
   "source": [
    "### **2.2.3 Practice** \n",
    "\n",
    "Let’s change the complex sentences into simple and clear language."
   ]
  },
  {
   "cell_type": "markdown",
   "metadata": {},
   "source": [
    "**Exercise #1. Simplifying a Legal Request**   \n",
    "\n",
    "- Legal Request:  \n",
    "\n",
    "    > Kindly expound upon the multifaceted legal implications and fiduciary responsibilities that emerge from the contractual instrument under deliberation, taking into account the interplay of statutory provisions, case law precedents, and the overarching principles of contract law that govern such agreements.    "
   ]
  },
  {
   "cell_type": "code",
   "execution_count": null,
   "metadata": {},
   "outputs": [],
   "source": [
    "# Improved Prompt:\n",
    "answer = \" \" # ←- Insert your prompt here.\n",
    "\n",
    "message = [\n",
    "    {\n",
    "        \"role\": \"system\",\n",
    "        \"content\": \"You are an AI assistant to help user's various tasks. Please provide me with an accurate information.\"\n",
    "    },\n",
    "    {\n",
    "        \"role\": \"user\",\n",
    "        \"content\": answer\n",
    "    }\n",
    "]\n",
    "\n",
    "response = get_completion(messages=message)\n",
    "print(response, \"\\n\\n\")"
   ]
  },
  {
   "cell_type": "markdown",
   "metadata": {},
   "source": [
    "**Exercise #2. Breaking Down a Financial Inquiry**   \n",
    "\n",
    "- Financial Inquiry:  \n",
    "\n",
    "    > I would appreciate an exhaustive exegesis on the multifaceted investment paradigms extant within the contemporary fiscal milieu, elucidating the intricate risk-return trade-offs associated with each stratagem. Please incorporate a comprehensive evaluation of asset allocation theories, behavioral finance implications, and macroeconomic indicators that may influence these investment methodologies. Additionally, a comparative analysis of traditional versus alternative investments, alongside an assessment of their volatility profiles and liquidity constraints, would be invaluable.   "
   ]
  },
  {
   "cell_type": "code",
   "execution_count": null,
   "metadata": {},
   "outputs": [],
   "source": [
    "# Improved Prompt:\n",
    "answer = \" \" # ←- Insert your prompt here.\n",
    "\n",
    "message = [\n",
    "    {\n",
    "        \"role\": \"system\",\n",
    "        \"content\": \"You are an AI assistant to help user's various tasks. Please provide me with an accurate information.\"\n",
    "    },\n",
    "    {\n",
    "        \"role\": \"user\",\n",
    "        \"content\": answer\n",
    "    }\n",
    "]\n",
    "\n",
    "response = get_completion(messages=message)\n",
    "print(response)"
   ]
  }
 ],
 "metadata": {
  "kernelspec": {
   "display_name": "base",
   "language": "python",
   "name": "python3"
  },
  "language_info": {
   "codemirror_mode": {
    "name": "ipython",
    "version": 3
   },
   "file_extension": ".py",
   "mimetype": "text/x-python",
   "name": "python",
   "nbconvert_exporter": "python",
   "pygments_lexer": "ipython3",
   "version": "3.12.4"
  }
 },
 "nbformat": 4,
 "nbformat_minor": 2
}
