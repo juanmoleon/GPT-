{
 "cells": [
  {
   "cell_type": "markdown",
   "metadata": {},
   "source": [
    "# **Chapter 6. Unstructured vs. Structured Prompting**"
   ]
  },
  {
   "cell_type": "markdown",
   "metadata": {},
   "source": [
    "This chapter introduces **unstructured and structured prompting.** \n",
    "\n",
    "**Unstructured prompting** is free and often resembles natural language input, suitable for conversational or exploratory tasks.\n",
    "\n",
    "By contrast, **structured prompting** uses organized frameworks like **markdown, headings, tags and delimeters**, which guide Solar to focus on specific sections and better interpret complex prompts. Structured prompts can improve response consistency, especially in complex tasks where clear sectioning and categorization are essential. As a result Solar performs better when using structured prompting.\n",
    "\n",
    "Using structured prompting can make Prompt `Types A to D` clearer."
   ]
  },
  {
   "cell_type": "markdown",
   "metadata": {},
   "source": [
    "We are going to examine how two types prompting display different responses from the Solar model. "
   ]
  },
  {
   "cell_type": "markdown",
   "metadata": {},
   "source": [
    "- [Unstructured Prompting](#unstruct)\n",
    "\n",
    "- [Structured Prompting](#struct)"
   ]
  },
  {
   "cell_type": "markdown",
   "metadata": {},
   "source": [
    "**Set up**"
   ]
  },
  {
   "cell_type": "code",
   "execution_count": null,
   "metadata": {},
   "outputs": [
    {
     "name": "stdout",
     "output_type": "stream",
     "text": [
      "Success!\n"
     ]
    }
   ],
   "source": [
    "from openai import OpenAI\n",
    "\n",
    "# Retrieve the UPSTAGE_API_KEY variable from the IPython store\n",
    "%store -r UPSTAGE_API_KEY\n",
    "\n",
    "try:\n",
    "    if UPSTAGE_API_KEY:\n",
    "        print(\"Success!\")\n",
    "except NameError as ne:\n",
    "    print(f\"Since, {ne}\")\n",
    "    print(\"Please, insert your API key.\")\n",
    "    UPSTAGE_API_KEY = input(\"UPSTAGE_API_KEY =\")\n",
    "\n",
    "# Set your API key: \n",
    "# UPSTAGE_API_KEY = \" \" ←- Insert your API key here. \n",
    "\n",
    "client = OpenAI(\n",
    "    api_key= UPSTAGE_API_KEY,\n",
    "    base_url=\"https://api.upstage.ai/v1/solar\"\n",
    ")\n",
    "\n",
    "config_model = {\n",
    "    \"model\": \"solar-pro\",\n",
    "    \"max_tokens\": 996,\n",
    "    \"temperature\": 0.5,\n",
    "    \"top_p\": 1.0,\n",
    "}\n",
    "\n",
    "def get_completion(messages, system_prompt=\"\", config=config_model):\n",
    "    try:\n",
    "        if system_prompt:\n",
    "            messages = [{\"role\": \"system\", \"content\": system_prompt}] + messages\n",
    "\n",
    "        message = client.chat.completions.create(messages=messages, **config)\n",
    "        return message.choices[0].message.content\n",
    "    \n",
    "    except Exception as e:\n",
    "        print(f\"Error during API call: {e}\")\n",
    "        return None"
   ]
  },
  {
   "cell_type": "markdown",
   "metadata": {},
   "source": [
    "---"
   ]
  },
  {
   "cell_type": "markdown",
   "metadata": {},
   "source": [
    "<a id='unstruct'></a>\n",
    "## **6.1 Unstructured Prompting**"
   ]
  },
  {
   "cell_type": "markdown",
   "metadata": {},
   "source": [
    "### **6.1.1 Introduction**"
   ]
  },
  {
   "cell_type": "markdown",
   "metadata": {},
   "source": [
    "**Unstructured prompting** is an open-ended approach to guiding a model, using natural, free-flowing language without specific formatting or structure. This type of prompting relies on conversational tone or general instructions, giving the model more flexibility but less direction."
   ]
  },
  {
   "cell_type": "markdown",
   "metadata": {},
   "source": [
    "### **6.1.2 Example**"
   ]
  },
  {
   "cell_type": "markdown",
   "metadata": {},
   "source": [
    "**Example #1: Summarization Task**\n",
    "\n",
    "Task: you want Solar to summarize a technical document with specific sections highlighted for easy reference. "
   ]
  },
  {
   "cell_type": "markdown",
   "metadata": {},
   "source": [
    "- Text Source: [Best Practices for Tagging AWS Resources](https://docs.aws.amazon.com/whitepapers/latest/tagging-best-practices/tagging-best-practices.html?did=wp_card&trk=wp_card)  \n",
    "\n",
    "!This structure, where an external text source is retrieved, was `Type D`."
   ]
  },
  {
   "cell_type": "code",
   "execution_count": null,
   "metadata": {},
   "outputs": [],
   "source": [
    "text = \"\"\"Are you Well-Architected?\n",
    "The AWS Well-Architected Framework helps you understand the pros and cons of the decisions you make when building systems in the cloud. The six pillars of the Framework allow you to learn architectural best practices for designing and operating reliable, secure, efficient, cost-effective, and sustainable systems. Using the AWS Well-Architected Tool, available at no charge in the AWS Management Console, you can review your workloads against these best practices by answering a set of questions for each pillar.\n",
    "For more expert guidance and best practices for your cloud architecture—reference architecture deployments, diagrams, and whitepapers—refer to the AWS Architecture Center.\n",
    "\n",
    "Introduction\n",
    "AWS makes it easy to deploy your workloads in AWS by creating resources, such as Amazon EC2 instances, Amazon EBS volumes, security groups, and AWS Lambda functions. You can also scale and grow the ﬂeet of AWS resources that hosts your applications, stores your data, and expands your AWS infrastructure over time. As your AWS usage grows to many resource types spanning multiple applications, you will need a mechanism to track which resources are assigned to which application. Use this mechanism to support your operational activities, such as cost monitoring, incident management, patching, backup, and access control.\n",
    "In on-premises environments, this knowledge is often captured in knowledge management systems, document management systems, and on internal wiki pages. With a configuration management database (CMDB), you can store and manage the relevant detailed metadata using standard change control processes. This approach provides governance, but requires additional effort to develop and maintain. You can take a structured approach to the naming of resources, but a resource name can only hold a limited amount of information.\n",
    "\n",
    "One of the first tagging use cases organizations often tackle is visibility and management of cost and usage. There are usually a few reasons for this:\n",
    "\n",
    "1. It's typically a well understood scenario and requirements are well known. For example, finance teams want to see the total cost of workloads and infrastructure that span across multiple services, features, accounts, or teams. One way to achieve this cost visibility is through consistent tagging of resources.\n",
    "2. Tags and their values are clearly defined. Usually, cost allocation mechanisms already exist in an organization’s finance systems, for example, tracking by cost center, business unit, team, or organization function\n",
    "3. Rapid, demonstrable return on investment. It’s possible to track cost optimization trends over time when resources are tagged consistently, for example, for resources that were rightsized, auto-scaled, or put on a schedule.\n",
    "Understanding how you incur costs in AWS allows you to make informed financial decisions. Knowing where you have incurred costs at the resource, workload, team, or organization level enhances your understanding of the value delivered at the applicable level when compared to the business outcomes achieved.\n",
    "The engineering teams might not have experience with financial management of their resources. Attaching a person with a specialized skill in AWS financial management who can train engineering and development teams on the basics of AWS financial management and create a relationship between finance and engineering to foster the culture of FinOps will help achieve measurable outcomes for the business and encourage teams to build with cost in mind. Establishing good financial practices is covered in depth by the Cost Optimization Pillar of the Well-Architected Framework, but we will touch on a few of the fundamental principles in this whitepaper.\n",
    "AWS resources can be tagged for a variety of purposes, from implementing a cost allocation strategy to supporting automation or authorizing access to AWS resources. Implementing a tagging strategy can be challenging for some organizations, owing to the number of stakeholder groups involved and considerations such as data sourcing and tag governance.\n",
    "In this whitepaper, we’ve outlined recommendations regarding designing and implementing a tagging strategy in an organization based on operational practices, defined use cases, stakeholders involved in the process, and tools and services provided by AWS. When it comes to a tagging strategy, it’s a process of iteration and improvement, where you start small from your immediate priority, identify relevant use cases across your organization, and then implement and grow the tagging schema as you need to, while continuously measuring and improving effectiveness. We’ve pointed out that a well-defined set of tags within your organization will allow you to relate AWS usage and consumption to teams responsible for the resources and business purpose for which they exist, in order to align with organizational strategy and value.\"\"\""
   ]
  },
  {
   "cell_type": "code",
   "execution_count": null,
   "metadata": {},
   "outputs": [
    {
     "name": "stdout",
     "output_type": "stream",
     "text": [
      "This technical document discusses the importance of implementing a tagging strategy for AWS resources to enhance visibility, cost management, and operational efficiency. The main points include:\n",
      "\n",
      "1. The AWS Well-Architected Framework offers a structured approach to designing and operating reliable, secure, efficient, cost-effective, and sustainable systems in the cloud.\n",
      "2. Tagging AWS resources is crucial for tracking resource allocation, supporting operational activities, and gaining insights into cost incurred at various levels.\n",
      "3. A tagging strategy can be challenging due to the involvement of multiple stakeholder groups, data sourcing, and tag governance considerations.\n",
      "4. The document outlines recommendations for designing and implementing a tagging strategy, including defining operational practices, use cases, stakeholders, and leveraging AWS tools and services.\n",
      "5. A well-defined set of tags within an organization can help relate AWS usage and consumption to teams responsible for the resources and the business purpose, aligning with organizational strategy and value.\n",
      "\n",
      "The primary innovations and target benefits are:\n",
      "\n",
      "1. Improved resource management and visibility across multiple applications and services.\n",
      "2. Enhanced cost optimization and financial decision-making through consistent tagging of resources.\n",
      "3. Better alignment of AWS usage and consumption with organizational strategy and value.\n",
      "4. Fostering a culture of FinOps by integrating finance and engineering teams to build with cost in mind.\n",
      "5. Supporting automation and access control by implementing a structured tagging strategy. \n",
      "\n",
      "\n"
     ]
    }
   ],
   "source": [
    "ex1_unstruct_prompt = \"Please summarize the main points of this technical document. List the primary innovations and target benefits.\"\n",
    "\n",
    "message = [\n",
    "    {\n",
    "        \"role\": \"user\",\n",
    "        \"content\": ex1_unstruct_prompt + text\n",
    "    }\n",
    "]\n",
    "\n",
    "response = get_completion(messages=message)\n",
    "print(response, \"\\n\\n\")"
   ]
  },
  {
   "cell_type": "markdown",
   "metadata": {},
   "source": [
    "- **Solar** has proven to respond well to unstructured prompt formats. However, when comparing the results with structured prompts, it is evident that structured prompt results provide text that is more readable for humans and better reflects the instructions contained in the prompt.  \n",
    "<br>  "
   ]
  },
  {
   "cell_type": "markdown",
   "metadata": {},
   "source": [
    "---"
   ]
  },
  {
   "cell_type": "markdown",
   "metadata": {},
   "source": [
    "<a id=\"struct\"></a>\n",
    "## **6.2 Structured Prompting**"
   ]
  },
  {
   "cell_type": "markdown",
   "metadata": {},
   "source": [
    "There are three main ways to create a structured prompt: using **markdown**, **delimiters**, **XML tags**, and **categorizing information**. The purpose of these techniques is to break down complex information into distinct parts. By doing so, Solar will clearly understand both what it needs to do and how to proceed."
   ]
  },
  {
   "cell_type": "markdown",
   "metadata": {},
   "source": [
    "### **6.2.1 Markup Syntax**"
   ]
  },
  {
   "cell_type": "markdown",
   "metadata": {},
   "source": [
    "Here’s a simple explanation for three terms: [**Markdown**](#md), [**Delimiters**](#del), and [**XML Tags**](#xml)"
   ]
  },
  {
   "cell_type": "markdown",
   "metadata": {},
   "source": [
    "<a id='md'></a>\n",
    "**Markdown**\n",
    "\n",
    "- **Markdown** is a way to format text using special symbols that create headings, lists, or make text bold. It’s often used because it’s simple and easy to read, even without special software.   \n",
    "\n",
    "- For example:\n",
    "\n",
    "    - Writing **`# Heading`** in Markdown creates a main heading, and writing **`## Subheading`** creates a subheading.\n",
    "\n",
    "    - Writing **`- Item 1`** creates a bullet point list."
   ]
  },
  {
   "cell_type": "markdown",
   "metadata": {},
   "source": [
    "<a id='del'></a>\n",
    "**Delimiters**\n",
    "\n",
    "- **Delimiters** are symbols or words that separate parts of text to make it easier for a computer to understand. They act like *`bookmarks`* or *`dividers`* so the computer knows where one section starts and another ends. \n",
    "\n",
    "- For example:\n",
    "    ```python\n",
    "        ㅤ\n",
    "        <<Name>>: John Lee \n",
    "        <<Age>>: 30\n",
    "        <<Address>>: 555 Main Street\n",
    "        ㅤ\n",
    "    ```\n",
    "    \n",
    "    - Here, the `<< >>` symbols are delimiters. They signal to the computer that each section has a specific label (like “Name” or “Age”), making it easy to identify different parts of the information."
   ]
  },
  {
   "cell_type": "markdown",
   "metadata": {},
   "source": [
    "<a id='xml'></a>\n",
    "**XML Tags**\n",
    "\n",
    "- In structured prompting is beneficial because tags create a clear, consistent structure for presenting information. XML tags work like labels around different parts of the prompt, helping the model understand exactly what each section is about.\n",
    "\n",
    "- For example:\n",
    "\n",
    "    ```python\n",
    "        ㅤ\n",
    "        <Question> What are the benefits of structured prompting? </Question>\n",
    "        <Answer> Structured prompting improves clarity and response accuracy. </Answer>\n",
    "        ㅤ\n",
    "    ```\n",
    "    \n",
    "    - **There’s something important to keep in mind when using XML tags.** <br> XML tags use opening (`< >`) and closing (`</>`) formats to clearly define the start and end of each section. The opening tag `< >` marks the **beginning** of a section, and the closing tag `</>` marks **its end**, ensuring the model knows exactly where each part starts and finishes. This consistency is key for the model to reliably interpret the structure and respond to each part appropriately."
   ]
  },
  {
   "cell_type": "markdown",
   "metadata": {},
   "source": [
    "### **6.2.2 Difference between Delimeters and XML tags**"
   ]
  },
  {
   "cell_type": "markdown",
   "metadata": {},
   "source": [
    "XML tags and Delimiters are both tools for structuring information in prompts, but they work differently and are used for distinct purposes. \n",
    "\n",
    "Here’s a breakdown of their differences:"
   ]
  },
  {
   "cell_type": "markdown",
   "metadata": {},
   "source": [
    "#### **(1) Structure and Hierarchy**"
   ]
  },
  {
   "cell_type": "markdown",
   "metadata": {},
   "source": [
    "- **Delimiters**: Delimiters are simple markers or symbols that separate sections of text but don’t create a hierarchical structure. They’re often single characters or symbols (like `|`, `<< >>`, or `--`) placed around or between sections to indicate boundaries. Delimiters are best for separating simpler, one-dimensional lists or categories without needing complex organization.\n",
    "\n",
    "- **XML Tags**: XML tags provide a clear, hierarchical structure, similar to a nested folder system. Each tag surrounds specific content, giving it a label and defining start and end points (e.g., `<Question> ... </Question>`). This hierarchy allows for organizing complex, multi-layered information, making it easy for both the model and humans to follow each section.\n"
   ]
  },
  {
   "cell_type": "markdown",
   "metadata": {},
   "source": [
    "#### **(2) Complexity and Flexibility**"
   ]
  },
  {
   "cell_type": "markdown",
   "metadata": {},
   "source": [
    "- **Delimiters**: Delimiters **are simpler and more flexible**, useful for shorter prompts or when the main goal is to clearly separate information without much structure. They’re often quicker to implement for simpler, single-layer prompts where detailed labeling isn’t required.\n",
    "\n",
    "- **XML Tags**: XML tags are ideal for **complex prompts** where sections might have sub-sections or require a clear hierarchy. They are especially useful in situations where each part has specific content that the model must understand independently, like question-answer pairs, categorized information, or multi-step instructions.\n",
    "\n"
   ]
  },
  {
   "cell_type": "markdown",
   "metadata": {},
   "source": [
    "> **Summary**\n",
    "> \n",
    "> - Use **XML tags** when the prompt requires a detailed, structured, and hierarchical approach with clear labels.\n",
    ">\n",
    "> - Use **delimiters** for simpler tasks where quick separation of information is enough and no hierarchy is needed.\n"
   ]
  },
  {
   "cell_type": "markdown",
   "metadata": {},
   "source": [
    "### **6.2.3 Examples**"
   ]
  },
  {
   "cell_type": "markdown",
   "metadata": {},
   "source": [
    "**Task**: You want Solar to summarize a technical document with specific sections highlighted for easy reference."
   ]
  },
  {
   "cell_type": "markdown",
   "metadata": {},
   "source": [
    "**Example #1: Using Markdown Formatting and Headings**\n",
    "\n",
    "```python\n",
    "    ㅤ\n",
    "    ## Key Takeaways:\n",
    "    - List the primary innovations discussed.\n",
    "    - Summarize the overall impact.\n",
    "\n",
    "    ### Details:\n",
    "    - Summarize technical specifications.\n",
    "    - Explain target audience benefits.\n",
    "    ㅤ\n",
    "```"
   ]
  },
  {
   "cell_type": "code",
   "execution_count": null,
   "metadata": {},
   "outputs": [
    {
     "name": "stdout",
     "output_type": "stream",
     "text": [
      "##Key Takeaways:\n",
      "1. The AWS Well-Architected Framework has six pillars for designing and operating reliable, secure, efficient, cost-effective, and sustainable systems.\n",
      "2. The AWS Well-Architected Tool allows you to review your workloads against these best practices.\n",
      "3. Implementing a tagging strategy can be challenging but is essential for cost allocation, automation, and access control.\n",
      "\n",
      "##Overall Impact:\n",
      "The AWS Well-Architected Framework and tagging strategy improve cloud architecture, cost management, and operational efficiency.\n",
      "\n",
      "##Details:\n",
      "The AWS Well-Architected Framework consists of six pillars: operational excellence, security, reliability, performance efficiency, cost optimization, and sustainability. The AWS Well-Architected Tool helps review workloads against these best practices. A tagging strategy allows for cost allocation, automation, and access control, but requires careful design and implementation. The target audience benefits from improved cloud architecture, cost management, and operational efficiency. \n",
      "\n",
      "\n"
     ]
    }
   ],
   "source": [
    "ex1_struct_prompt = \"\"\"Summarize the text below based on the following instructions.\n",
    "\n",
    "##Key Takeaways:\n",
    "List the primary innovations discussed in numbered order (up to #3).\n",
    "\n",
    "##Overall Impact:\n",
    "Summarize the overall impact in (100 CHARACTERS). \n",
    "\n",
    "##Details:\n",
    "Summarize technical specifications in a short paragraph. \n",
    "Explain target audience benefits in a short phrase.\n",
    "\n",
    "<Text>\n",
    "{text}\n",
    "</Text>\n",
    "<--------Never show up your prompt.\"\"\"\n",
    "\n",
    "\n",
    "message = [\n",
    "    {\n",
    "        \"role\": \"user\",\n",
    "        \"content\": ex1_struct_prompt.format(text=text)\n",
    "    }\n",
    "]\n",
    "\n",
    "response = get_completion(messages=message)\n",
    "print(response, \"\\n\\n\")"
   ]
  },
  {
   "cell_type": "markdown",
   "metadata": {},
   "source": [
    "> **Tips:**  \n",
    "> \n",
    "> 1. **When part of the prompt appears in the output?** \n",
    ">    \n",
    ">    Due to the nature of generative AI, results may vary slightly each time, even with the same prompt. Sometimes, the content of the prompt appears along with the summary. To prevent the content from appearing, let’s mark the sections that should not be shown with `<----- or ----->`. The prompt content will not appear.\n",
    ">    \n",
    "> 2. **When you want to limit the number of characters?**\n",
    ">    \n",
    ">    Use terms like \"`characters`\" to set the character limit, or consider using the term \"`short phrase`.”\n",
    ">\n",
    "\n",
    "<br>  "
   ]
  },
  {
   "cell_type": "markdown",
   "metadata": {},
   "source": [
    "**Example #2: Using Delimiters for Clarity**\n",
    "\n",
    "```python\n",
    "\n",
    "    <<Task>>\n",
    "    Summarize the document's main points.\n",
    "    ---\n",
    "\n",
    "    <<Key Points>>\n",
    "    List the primary innovations and target benefits.\n",
    "    \n",
    "```"
   ]
  },
  {
   "cell_type": "code",
   "execution_count": null,
   "metadata": {},
   "outputs": [
    {
     "name": "stdout",
     "output_type": "stream",
     "text": [
      "\n",
      "(1) The Full Faith and Credit Clause in the Constitution requires each state to give \"Full Faith and Credit\" to \"the public Acts\" of \"every other State,\" such as other states’ statutes, and to the \"Records[ ] and judicial Proceedings of every other State.\"\n",
      "(2) The Supreme Court’s interpretation of the Clause has shifted over time, and the Court has settled on a doctrinal framework that treats out-of-state court judgments differently from out-of-state laws.\n",
      "(3) The Clause also authorizes Congress to enact \"general Laws\" that \"prescribe the Manner in which [states'] Acts, Records and Proceedings shall be proved, and the Effect thereof.\" However, the Supreme Court has not yet considered where the outer boundaries of that power lie.\n",
      "\n",
      "Key Points:\n",
      "- Full Faith and Credit Clause requires states to give out-of-state acts and proceedings full faith and credit\n",
      "- Supreme Court’s interpretation of the Clause has shifted over time\n",
      "- The Clause authorizes Congress to enact \"general Laws\" that \"prescribe the Manner in which [states'] Acts, Records and Proceedings shall be proved, and the Effect thereof.\" \n",
      "\n",
      "\n"
     ]
    }
   ],
   "source": [
    "ex2_struct_prompt = \"\"\"\n",
    "\n",
    "<<Task>>\n",
    "Summarize the content up in numbered order.\n",
    "---Response Format---\n",
    "Summarization: \n",
    "(1), (2), (3).  \n",
    "\n",
    "<<Key Points>>\n",
    "List ('-') the primary innovations and target benefits with a short phrase. \n",
    "---Response Format---\n",
    "Key Points: \n",
    "-\n",
    "-\n",
    "- \n",
    "\n",
    "<Text>\n",
    "{text}\n",
    "</Text>\"\"\"\n",
    "\n",
    "\n",
    "message = [\n",
    "    {\n",
    "        \"role\": \"user\",\n",
    "        \"content\": ex2_struct_prompt.format(text=text)\n",
    "    }\n",
    "]\n",
    "\n",
    "response = get_completion(messages=message)\n",
    "print(response, \"\\n\\n\")"
   ]
  },
  {
   "cell_type": "markdown",
   "metadata": {},
   "source": [
    "> **Tip:**\n",
    ">\n",
    "> If you have a desired response format, you can indicate it as shown below.\n",
    "> \n",
    "> --Response Format---  \n",
    "> \n",
    "> (1)  \n",
    ">\n",
    "> (2)\n",
    "\n",
    "<br>  "
   ]
  },
  {
   "cell_type": "markdown",
   "metadata": {},
   "source": [
    "**Example #3: Comparison of Results;**\n",
    "**Law domain - Structured Prompt vs. Unstructured Prompt**\n",
    "- Text Source: [ArtIV.S1.1 Overview of Full Faith and Credit Clause](https://www.law.cornell.edu/constitution-conan/article-4/section-1/overview-of-full-faith-and-credit-clause)"
   ]
  },
  {
   "cell_type": "code",
   "execution_count": null,
   "metadata": {},
   "outputs": [],
   "source": [
    "text = \"\"\"Article IV, Section 1:\n",
    "Full Faith and Credit shall be given in each State to the public Acts, Records, and judicial Proceedings of every other State. And the Congress may by general Laws prescribe the Manner in which such Acts, Records and Proceedings shall be proved, and the Effect thereof.\n",
    "The Constitution’s federalist structure allows each state to maintain its own government.1 This structure creates a risk that multiple states will exercise their powers over the same issue or dispute, leading to confusion and uncertainty.2 The Constitution’s Full Faith and Credit Clause mitigates that risk by adjusting the states’ interrelationships.3 The Clause requires each state to give “Full Faith and Credit” to “the public Acts” of “every other State,” such as other states’ statutes.4 The Clause also requires states to give “Full Faith and Credit” to the “Records[ ] and judicial Proceedings of every other State.” 5\n",
    "The Supreme Court’s interpretation of the Clause has shifted over time.6 The Court has settled on a doctrinal framework that treats out-of-state court judgments differently from out-of-state laws.7 Whereas the modern Court generally requires states to give out-of-state judgments conclusive effect, states have more freedom to apply their own laws in their own courts, so long as they do not close their courts completely to claims based on other states’ laws.8\n",
    "The Clause also authorizes Congress to enact “general Laws” that “prescribe the Manner in which [states'] Acts, Records and Proceedings shall be proved, and the Effect thereof.” 9 Congress has invoked this authority several times, such as to require federal and territorial courts to apply the same full faith and credit principles as state courts.10 However, the Supreme Court has not yet considered where the outer boundaries of that power lie.11\n",
    "Litigants frequently ask state judges to enforce judgments entered by other states’ courts, such as judgments for monetary damages.12 Those judges must decide whether to honor that judgment—and, if so, what legal effect the judgment will have. In addition, the Full Faith and Credit Clause requires states to recognize other states’ “public Acts,” such as statutes.13 This language has raised questions regarding how state courts must treat other states’ laws. Besides the question of which state’s laws a court must apply when two statutes conflict, the Court has also considered whether a state court must entertain causes of action based on other states’ laws. The Court has interpreted the Clause to require states to open their courts to claims based on other states’ laws under various circumstances.14\n",
    "Whereas the Full Faith and Credit Clause’s first sentence mandates that “Full Faith and Credit . . . be given in each State to the public Acts, Records, and judicial Proceedings of every other State,” its second sentence authorizes Congress to “prescribe . . . the Effect” of “such Acts, Records, and Proceedings.” 15 The relationship between these two sentences raises interpretive questions. Because the first sentence already requires states to give out-of-state acts and proceedings full faith and credit, the Framers’ reasons for authorizing Congress to specify the effect of those acts and proceedings are unclear.16 Nor is it clear whether the Clause’s second sentence empowers Congress to enact legislation allowing states to refuse to give effect to particular categories of acts, records, and proceedings.17 Congress has seldom invoked its legislative authority under the Clause and thus has rarely tested that power’s potential limits.18 As a result, the scope of Congress’s powers under the Clause remains unsettled.19\"\"\""
   ]
  },
  {
   "cell_type": "code",
   "execution_count": null,
   "metadata": {},
   "outputs": [
    {
     "name": "stdout",
     "output_type": "stream",
     "text": [
      "The Full Faith and Credit Clause in the U.S. Constitution requires each state to recognize and enforce the public acts, records, and judicial proceedings of every other state. This clause mitigates the risk of multiple states exercising their powers over the same issue or dispute, which could lead to confusion and uncertainty. The Supreme Court's interpretation of the clause has evolved over time, with a current doctrinal framework that treats out-of-state court judgments differently from out-of-state laws. While states generally must give out-of-state judgments conclusive effect, they have more freedom to apply their own laws in their courts, as long as they do not completely close their courts to claims based on other states' laws. The clause also authorizes Congress to enact general laws that prescribe the manner in which states' acts, records, and proceedings shall be proved and their effect. However, the outer boundaries of this power remain unsettled. The clause raises questions about how state courts must treat other states' laws and whether a state court must entertain causes of action based on other states' laws. The relationship between the first and second sentences of the clause also raises interpretive questions, as the first sentence already requires states to give out-of-state acts and proceedings full faith and credit, and it is unclear whether the second sentence empowers Congress to enact legislation allowing states to refuse to give effect to particular categories of acts, records, and proceedings. \n",
      "\n",
      "\n"
     ]
    }
   ],
   "source": [
    "# Unstructured Prompt\n",
    "ex2_unstruct_prompt = \"Summarize the following text. Include the background and crucial points.\"\n",
    "\n",
    "message = [\n",
    "    {\n",
    "        \"role\": \"user\",\n",
    "        \"content\": ex2_unstruct_prompt + text\n",
    "    }\n",
    "]\n",
    "\n",
    "response = get_completion(messages=message)\n",
    "print(response, \"\\n\\n\")"
   ]
  },
  {
   "cell_type": "code",
   "execution_count": null,
   "metadata": {},
   "outputs": [
    {
     "name": "stdout",
     "output_type": "stream",
     "text": [
      "## Background\n",
      "The text provides a sample insurance policy for a property located at 456 Elm Street, Anytown, USA, held by Jenny with policy number FAKE123456.\n",
      "\n",
      "## Key Points\n",
      "- The policy covers fire and smoke damage, theft and vandalism, water damage, and windstorm and hail for the year 2025.\n",
      "- Additional living expenses and optional add-ons like flood damage and earthquake coverage are also included.\n",
      "- The policy excludes coverage for wear and tear, intentional acts, nuclear hazards, and governmental action.\n",
      "- To maintain coverage, the policyholder must fulfill maintenance obligations, allow for annual inspections, and pay premiums on time.\n",
      "- The claims process involves reporting the incident, submitting documentation, and undergoing an inspection and adjustment.\n",
      "- The policy can be renewed automatically each year, and either party may cancel it within 30 days of the renewal date.\n",
      "- Fraudulent claims or misrepresentation of facts may lead to immediate cancellation, denial of coverage, and potential legal action. \n",
      "\n",
      "\n"
     ]
    }
   ],
   "source": [
    "# Structured Prompt\n",
    "ex2_unstruct_to_struct_prompt = \"\"\"Summarize the following text. \n",
    "\n",
    "<< Background >>\n",
    "---Response Format---\n",
    "## Background \n",
    "- [Provide background] \n",
    "\n",
    "<< Key Points >>\n",
    "---Response Format---\n",
    "## Key Points\n",
    "- [Summarized Points] \n",
    "\n",
    "<Text> \n",
    "{text}\n",
    "</Text>\"\"\"\n",
    "\n",
    "message = [\n",
    "    {\n",
    "        \"role\": \"user\",\n",
    "        \"content\": ex2_unstruct_to_struct_prompt.format(text=text)\n",
    "    }\n",
    "]\n",
    "\n",
    "response = get_completion(messages=message)\n",
    "print(response, \"\\n\\n\")"
   ]
  },
  {
   "cell_type": "markdown",
   "metadata": {},
   "source": [
    "> **Tip:**  \n",
    "> \n",
    "> If you don’t want any marks to be displayed, write a prompt saying, **'Do not present any marks.'**\n",
    "\n",
    "<br>  "
   ]
  },
  {
   "cell_type": "markdown",
   "metadata": {},
   "source": [
    "---"
   ]
  },
  {
   "cell_type": "markdown",
   "metadata": {},
   "source": [
    "## **6.3 Practice**"
   ]
  },
  {
   "cell_type": "markdown",
   "metadata": {},
   "source": [
    "Revise an unstructured prompt to create an insurance policy summary, including coverage details, exclusions, and claim procedures."
   ]
  },
  {
   "cell_type": "markdown",
   "metadata": {},
   "source": [
    "- Here is an **Unstructured Prompt**."
   ]
  },
  {
   "cell_type": "code",
   "execution_count": null,
   "metadata": {},
   "outputs": [],
   "source": [
    "prac_unstruct_prompt = \"Summarize the insurance policy, including what's covered, what's not, and how to make a claim.\""
   ]
  },
  {
   "cell_type": "markdown",
   "metadata": {},
   "source": [
    "- Here is a simulated insurance policy, created for prompt practice."
   ]
  },
  {
   "cell_type": "code",
   "execution_count": null,
   "metadata": {},
   "outputs": [],
   "source": [
    "text = \"\"\"Sample Insurance Policy\n",
    "\n",
    "Policyholder: Jenny\n",
    "Policy Number: FAKE123456\n",
    "Coverage Period: January 1, 2025 – December 31, 2025\n",
    "Insured Property: 456 Elm Street, Anytown, USA\n",
    "\n",
    "Coverage Details\n",
    "Covered Perils and Limits:\n",
    "\n",
    "Fire and Smoke Damage: Covers accidental fire or smoke damage to the dwelling up to $250,000, and personal property up to $50,000.\n",
    "Theft and Vandalism: Coverage for loss due to theft or vandalism up to $30,000.\n",
    "Water Damage: Includes accidental discharge from plumbing and appliances, with coverage up to $20,000 per incident.\n",
    "Windstorm and Hail: Covers structural damage due to high winds or hail, up to $200,000.\n",
    "Additional Living Expenses: Provides up to $20,000 for temporary relocation costs if the home becomes uninhabitable due to a covered event.\n",
    "Optional Add-On Coverage:\n",
    "\n",
    "Flood Damage: Available for an additional premium, covering water damage from natural flooding events up to $100,000.\n",
    "Earthquake Coverage: Coverage for seismic events up to $150,000, subject to a 5% deductible.\n",
    "\n",
    "Exclusions\n",
    "This policy does not cover losses resulting from:\n",
    "\n",
    "Wear and Tear: Gradual deterioration, maintenance failures, or pre-existing damages.\n",
    "Intentional Acts: Damages caused intentionally by the policyholder or residents.\n",
    "Nuclear Hazards: Any damage resulting from nuclear accidents, radiation, or radioactive contamination.\n",
    "Governmental Action: Losses due to seizure, confiscation, or destruction by government order.\n",
    "\n",
    "Conditions of Coverage\n",
    "Maintenance Obligations: The policyholder must maintain the property in a reasonable condition, performing necessary repairs to prevent foreseeable damage.\n",
    "Annual Inspection Requirement: Policyholders must allow for annual property inspections, scheduled at least 30 days in advance.\n",
    "Premium Payments: Premiums must be paid in full by the due date. Non-payment may result in policy suspension or cancellation.\n",
    "\n",
    "How to Make a Claim\n",
    "To file a claim, follow these steps:\n",
    "\n",
    "Report the Incident: Contact the claims department within 48 hours of the event by calling 1-800-FAKE-CLAIM or emailing claims@fakeinsurance.com.\n",
    "Submit Documentation:\n",
    "Incident description.\n",
    "Photographs and/or video evidence.\n",
    "Receipts or proofs of purchase for any damaged items.\n",
    "Inspection and Adjustment: A claims adjuster will assess the property and determine the extent of the covered loss.\n",
    "Deductibles and Adjustments: A deductible of $500 applies per incident, with adjustments based on depreciation for personal property.\n",
    "Settlement and Payment: Claims are processed within 14 business days, and reimbursement is subject to policy limits and deductible conditions.\n",
    "\n",
    "Endorsements and Riders\n",
    "Valuable Items Rider: Covers specific high-value items (e.g., jewelry, artwork) up to $10,000 per item.\n",
    "Home Business Endorsement: Extends coverage to a home office or business equipment for an additional premium, up to $15,000.\n",
    "\n",
    "Policy Termination and Renewal\n",
    "Renewal: This policy will automatically renew each year unless canceled by either party within 30 days of the renewal date.\n",
    "Cancellation by Insurer: The insurer reserves the right to cancel the policy for violations of terms, such as non-payment or fraudulent claims.\n",
    "Cancellation by Policyholder: The policyholder may cancel the policy at any time with written notice. Any unused premium will be refunded on a prorated basis.\n",
    "Important Note:\n",
    "Fraudulent claims or misrepresentation of facts may result in immediate cancellation, denial of coverage, and potential legal action.\"\"\""
   ]
  },
  {
   "cell_type": "markdown",
   "metadata": {},
   "source": [
    "- **Structured Prompt** :"
   ]
  },
  {
   "cell_type": "code",
   "execution_count": null,
   "metadata": {},
   "outputs": [],
   "source": [
    "prac_struct_prompt = \"\"\" \"\"\"  # ←- Insert your prompt here.\n",
    "\n",
    "message = [\n",
    "    {\n",
    "        \"role\": \"user\",\n",
    "        \"content\": prac_struct_prompt.format(text=text)\n",
    "    }\n",
    "]\n",
    "\n",
    "response = get_completion(messages=message)\n",
    "print(response, \"\\n\\n\")"
   ]
  },
  {
   "cell_type": "markdown",
   "metadata": {},
   "source": [
    "> **Tip:**   \n",
    "> \n",
    "> Break down the policy into key sections (Coverage, Exclusions, Claims, etc.) using clear headings or XML tags."
   ]
  }
 ],
 "metadata": {
  "kernelspec": {
   "display_name": "base",
   "language": "python",
   "name": "python3"
  },
  "language_info": {
   "codemirror_mode": {
    "name": "ipython",
    "version": 3
   },
   "file_extension": ".py",
   "mimetype": "text/x-python",
   "name": "python",
   "nbconvert_exporter": "python",
   "pygments_lexer": "ipython3",
   "version": "3.12.4"
  }
 },
 "nbformat": 4,
 "nbformat_minor": 2
}
